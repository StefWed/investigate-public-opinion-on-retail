{
 "cells": [
  {
   "cell_type": "markdown",
   "id": "d26516d7-6d92-470b-8800-934cef4d4f29",
   "metadata": {},
   "source": [
    "# Scraping Toots about IKEA from Mastodon Social \n",
    "\n",
    "This notebook is a bit more advanced. It will only come with little explanations regarding the code. If you need more guidance, please refer to the notebook Mastodon_Migros_Prototype."
   ]
  },
  {
   "cell_type": "markdown",
   "id": "df7c8981-4fe4-44f1-a5ea-01747572b5f4",
   "metadata": {},
   "source": [
    "## Load libraries and modules"
   ]
  },
  {
   "cell_type": "code",
   "execution_count": 1,
   "id": "5668a5f8-60a7-49fa-a34b-866f8485fcac",
   "metadata": {},
   "outputs": [],
   "source": [
    "import json\n",
    "import requests\n",
    "import pandas as pd"
   ]
  },
  {
   "cell_type": "code",
   "execution_count": 2,
   "id": "d2fce9be-0d6f-4ebe-8b65-d26ac0a5906c",
   "metadata": {},
   "outputs": [],
   "source": [
    "from bs4 import BeautifulSoup"
   ]
  },
  {
   "cell_type": "markdown",
   "id": "f4a62b36-1fba-469f-9d92-3c789260712c",
   "metadata": {},
   "source": [
    "## Preparation - Defining hashtag and URL for requests, set timeframe"
   ]
  },
  {
   "cell_type": "code",
   "execution_count": 3,
   "id": "cdaab0ff-dd36-42fc-a44b-a952dc06420a",
   "metadata": {},
   "outputs": [],
   "source": [
    "def ask_for_hashtag():\n",
    "\n",
    "    hashtag = input(\"Enter the hashtag which you would like to search: \")\n",
    "    return hashtag"
   ]
  },
  {
   "cell_type": "code",
   "execution_count": 4,
   "id": "06eaebf1-e4fe-4db6-814e-924bf7c5af51",
   "metadata": {},
   "outputs": [],
   "source": [
    "def build_url():\n",
    "\n",
    "    user_hashtag = ask_for_hashtag()\n",
    "    cleaned_hashtag = user_hashtag.lower()\n",
    "\n",
    "    url = f'https://mastodon.world/api/v1/timelines/tag/{cleaned_hashtag}'\n",
    "\n",
    "    return url"
   ]
  },
  {
   "cell_type": "code",
   "execution_count": 5,
   "id": "be9663c4-0e49-4f3a-9ff2-db7f13775601",
   "metadata": {},
   "outputs": [],
   "source": [
    "def ask_for_starting_date():\n",
    "\n",
    "    user_starting_date = input(\"Please enter the date you would like to start scraping. \"\n",
    "                          \"Tip: Depending on the hashtag, start with a short time period. \"\n",
    "                          \"Use the YYYY-MM-DD notation: \")\n",
    "\n",
    "    return user_starting_date"
   ]
  },
  {
   "cell_type": "markdown",
   "id": "99a10bad-4ad9-49b7-b568-3a238170831b",
   "metadata": {},
   "source": [
    "## Scraping the toots\n",
    "\n",
    "The following code now actually fetches recent posts with a specific hashtag from Mastodon and stores them in a Pandas DataFrame."
   ]
  },
  {
   "cell_type": "code",
   "execution_count": 6,
   "id": "d194dd01-a899-4df5-9cab-49f646485395",
   "metadata": {},
   "outputs": [],
   "source": [
    "def scraping_toots():\n",
    "    \n",
    "    params = {'limit': 40} #one can only fetch 40 posts at once\n",
    "    \n",
    "    URL = build_url()\n",
    "    print(URL)\n",
    "    \n",
    "    date = ask_for_starting_date()\n",
    "    since = pd.Timestamp(f'{date} 00:00:00', tz='UTC')\n",
    "    print(since)\n",
    "    \n",
    "    is_end = False\n",
    "    \n",
    "    \n",
    "    results = []\n",
    "    chunk_no = 1\n",
    "    \n",
    "    while True:\n",
    "    \n",
    "        try:\n",
    "            response = requests.get(URL, params=params)\n",
    "            print(\"STATUS OF YOUR SCRAPING: chunk number\", chunk_no)\n",
    "            chunk_no += 1\n",
    "            response.close()\n",
    "        except:\n",
    "            print(\"An error occured.\" \n",
    "                  \"The http status code is {}\".format(response.status_code))\n",
    "        \n",
    "        toots = json.loads(response.text)\n",
    "    \n",
    "        if len(toots) == 0:\n",
    "            print(\"There were no toots returned. \" \n",
    "                  \"Check for spelling or use another hashtag\")\n",
    "            break\n",
    "        \n",
    "        for toot in toots:\n",
    "            timestamp = pd.Timestamp(toot['created_at'], tz='utc')\n",
    "            if timestamp <= since:\n",
    "                is_end = True\n",
    "                break\n",
    "                \n",
    "            results.append(toot)\n",
    "        \n",
    "        if is_end:\n",
    "            break\n",
    "        \n",
    "        max_id = toots[-1]['id']\n",
    "        params['max_id'] = max_id\n",
    "    \n",
    "        \n",
    "    df_hashtag = pd.DataFrame(results)\n",
    "    \n",
    "    return df_hashtag"
   ]
  },
  {
   "cell_type": "code",
   "execution_count": 7,
   "id": "9b724d8e-108f-4276-8544-e8053e523ad3",
   "metadata": {},
   "outputs": [
    {
     "name": "stdin",
     "output_type": "stream",
     "text": [
      "Enter the hashtag which you would like to search:  IKEA\n"
     ]
    },
    {
     "name": "stdout",
     "output_type": "stream",
     "text": [
      "https://mastodon.world/api/v1/timelines/tag/ikea\n"
     ]
    },
    {
     "name": "stdin",
     "output_type": "stream",
     "text": [
      "Please enter the date you would like to start scraping. Tip: Depending on the hashtag, start with a short time period. Use the YYYY-MM-DD notation:  2024-09-01\n"
     ]
    },
    {
     "name": "stdout",
     "output_type": "stream",
     "text": [
      "2024-09-01 00:00:00+00:00\n",
      "STATUS OF YOUR SCRAPING: chunk number 1\n",
      "STATUS OF YOUR SCRAPING: chunk number 2\n",
      "STATUS OF YOUR SCRAPING: chunk number 3\n",
      "STATUS OF YOUR SCRAPING: chunk number 4\n",
      "STATUS OF YOUR SCRAPING: chunk number 5\n"
     ]
    }
   ],
   "source": [
    "df = scraping_toots()"
   ]
  },
  {
   "cell_type": "markdown",
   "id": "fa37d571-5398-4692-84a2-0c78e8140e0e",
   "metadata": {},
   "source": [
    "## Results and DF"
   ]
  },
  {
   "cell_type": "code",
   "execution_count": 8,
   "id": "4fab5250-3725-4391-ab72-4369ff1c80fa",
   "metadata": {},
   "outputs": [
    {
     "data": {
      "text/plain": [
       "(166, 24)"
      ]
     },
     "execution_count": 8,
     "metadata": {},
     "output_type": "execute_result"
    }
   ],
   "source": [
    "df.shape"
   ]
  },
  {
   "cell_type": "code",
   "execution_count": 9,
   "id": "bd72c9bd-1b5b-4e15-8716-1ffecc27a123",
   "metadata": {},
   "outputs": [
    {
     "data": {
      "text/plain": [
       "Index(['id', 'created_at', 'in_reply_to_id', 'in_reply_to_account_id',\n",
       "       'sensitive', 'spoiler_text', 'visibility', 'language', 'uri', 'url',\n",
       "       'replies_count', 'reblogs_count', 'favourites_count', 'edited_at',\n",
       "       'content', 'reblog', 'account', 'media_attachments', 'mentions', 'tags',\n",
       "       'emojis', 'card', 'poll', 'application'],\n",
       "      dtype='object')"
      ]
     },
     "execution_count": 9,
     "metadata": {},
     "output_type": "execute_result"
    }
   ],
   "source": [
    "df.columns"
   ]
  },
  {
   "cell_type": "markdown",
   "id": "494469e1-4146-4443-90ef-a5b221735108",
   "metadata": {},
   "source": [
    "## Cleaning up the data"
   ]
  },
  {
   "cell_type": "code",
   "execution_count": 10,
   "id": "8ca16261-8d00-40fa-a632-1b4964ee7123",
   "metadata": {},
   "outputs": [],
   "source": [
    "def account_id_column(dataframe):\n",
    "    dataframe['account_id'] = dataframe['account'].apply(lambda x: x['id'])\n",
    "\n",
    "    return dataframe"
   ]
  },
  {
   "cell_type": "code",
   "execution_count": 11,
   "id": "81198287-e205-46f9-a919-bff52fa68458",
   "metadata": {},
   "outputs": [],
   "source": [
    "def tag_name_column(dataframe):\n",
    "\n",
    "    dataframe = dataframe.explode(\"tags\").reset_index()\n",
    "    dataframe[\"tag_name\"] = dataframe[\"tags\"].apply(lambda y: y['name'])\n",
    "\n",
    "    return dataframe"
   ]
  },
  {
   "cell_type": "code",
   "execution_count": 12,
   "id": "ef102a68-e5e2-4632-b6fd-b8ab79f11116",
   "metadata": {},
   "outputs": [],
   "source": [
    "def extract_text_from_html(html):\n",
    "\n",
    "    \"\"\"Parsing a string which is in html code to extract actual text.\n",
    "\n",
    "    Parameters\n",
    "    ----------\n",
    "    html : string\n",
    "        String that stores the content of the post (or any text) in html.\n",
    "\n",
    "    Returns\n",
    "    -------\n",
    "    soup.get_text() : string\n",
    "        A string with the actual text, without any html tags etc.\n",
    "    \"\"\"\n",
    "    \n",
    "    soup = BeautifulSoup(html, 'html.parser')\n",
    "    return soup.get_text()"
   ]
  },
  {
   "cell_type": "code",
   "execution_count": 13,
   "id": "19be707b-c409-4718-938a-eca98f8326ed",
   "metadata": {},
   "outputs": [],
   "source": [
    "def parsed_content_column(dataframe):\n",
    "\n",
    "    dataframe[\"extracted_content\"] = dataframe[\"content\"].apply(extract_text_from_html)\n",
    "\n",
    "    return dataframe"
   ]
  },
  {
   "cell_type": "code",
   "execution_count": 14,
   "id": "378142c3-fc71-441f-9b4c-f7c2f16fc16a",
   "metadata": {},
   "outputs": [],
   "source": [
    "def choose_languages():\n",
    "\n",
    "    defined_languages = False\n",
    "    \n",
    "    while True: \n",
    "        languages = input(\"Which languages should the posts have? \"\n",
    "                          \"Leave the field empty to use the default which is English. \"\n",
    "                          \"Otherwise refer to the List of ISO 639 language codes. \"\n",
    "                          \"Use the following way to write all of them down: en sv fr. \") or \"en\"\n",
    "        languages = languages.split(\" \")\n",
    "        print(\"Chosen languages: \", languages)\n",
    "        \n",
    "        answer = input(\"If these are the languages you want to use, type yes: \")\n",
    "        \n",
    "        if answer.lower() == \"yes\":\n",
    "            defined_languages = True\n",
    "            \n",
    "            print(\"Chosen languages are: \", languages)\n",
    "            break\n",
    "        \n",
    "    return languages"
   ]
  },
  {
   "cell_type": "code",
   "execution_count": 15,
   "id": "443a8191-a285-4b22-921a-723610d83e9d",
   "metadata": {},
   "outputs": [],
   "source": [
    "def cleaning_data(dataframe):\n",
    "\n",
    "    dataframe = account_id_column(dataframe)\n",
    "    dataframe = tag_name_column(dataframe)\n",
    "    dataframe = parsed_content_column(dataframe)\n",
    "\n",
    "    \n",
    "    language_competences = [\"en\", \"de\", \"fr\", \"sv\"]\n",
    "    print(\"The following languages are used: \", language_competences)\n",
    "    language_answer = input(\"If you want to use the same languages, type yes, else type no: \")\n",
    "    \n",
    "    if language_answer.lower() != \"yes\":\n",
    "        language_competences = choose_languages()\n",
    "    \n",
    "    new = dataframe[dataframe['language'].isin(language_competences)]\n",
    "\n",
    "    \n",
    "    df_small = new[[\n",
    "    \"index\", \n",
    "    \"id\", \n",
    "    \"created_at\", \n",
    "    \"language\", \n",
    "    \"account_id\", \n",
    "    \"extracted_content\", \n",
    "    \"tag_name\"]]\n",
    "\n",
    "    return df_small"
   ]
  },
  {
   "cell_type": "code",
   "execution_count": 16,
   "id": "46edc3e9-032e-4f7b-994b-d8a569ca0e69",
   "metadata": {},
   "outputs": [
    {
     "name": "stdout",
     "output_type": "stream",
     "text": [
      "The following languages are used:  ['en', 'de', 'fr', 'sv']\n"
     ]
    },
    {
     "name": "stdin",
     "output_type": "stream",
     "text": [
      "If you want to use the same languages, type yes, else type no:  yes\n"
     ]
    }
   ],
   "source": [
    "clean_df = cleaning_data(df)"
   ]
  },
  {
   "cell_type": "code",
   "execution_count": 17,
   "id": "1dd09155-3bc2-4d6b-829c-65e5b328ae19",
   "metadata": {},
   "outputs": [
    {
     "data": {
      "text/html": [
       "<div>\n",
       "<style scoped>\n",
       "    .dataframe tbody tr th:only-of-type {\n",
       "        vertical-align: middle;\n",
       "    }\n",
       "\n",
       "    .dataframe tbody tr th {\n",
       "        vertical-align: top;\n",
       "    }\n",
       "\n",
       "    .dataframe thead th {\n",
       "        text-align: right;\n",
       "    }\n",
       "</style>\n",
       "<table border=\"1\" class=\"dataframe\">\n",
       "  <thead>\n",
       "    <tr style=\"text-align: right;\">\n",
       "      <th></th>\n",
       "      <th>index</th>\n",
       "      <th>id</th>\n",
       "      <th>created_at</th>\n",
       "      <th>language</th>\n",
       "      <th>account_id</th>\n",
       "      <th>extracted_content</th>\n",
       "      <th>tag_name</th>\n",
       "    </tr>\n",
       "  </thead>\n",
       "  <tbody>\n",
       "    <tr>\n",
       "      <th>0</th>\n",
       "      <td>0</td>\n",
       "      <td>113470963623530040</td>\n",
       "      <td>2024-11-12T16:38:12.000Z</td>\n",
       "      <td>de</td>\n",
       "      <td>109353323900910324</td>\n",
       "      <td>Ikea hat doch extra metallbedampfte Scheiben o...</td>\n",
       "      <td>ikea</td>\n",
       "    </tr>\n",
       "    <tr>\n",
       "      <th>1</th>\n",
       "      <td>0</td>\n",
       "      <td>113470963623530040</td>\n",
       "      <td>2024-11-12T16:38:12.000Z</td>\n",
       "      <td>de</td>\n",
       "      <td>109353323900910324</td>\n",
       "      <td>Ikea hat doch extra metallbedampfte Scheiben o...</td>\n",
       "      <td>verschworung</td>\n",
       "    </tr>\n",
       "    <tr>\n",
       "      <th>2</th>\n",
       "      <td>1</td>\n",
       "      <td>113464391758290608</td>\n",
       "      <td>2024-11-11T12:46:56.000Z</td>\n",
       "      <td>de</td>\n",
       "      <td>109456243616966336</td>\n",
       "      <td>Lernen und Entwicklung bei IKEA mit Tatevik Mk...</td>\n",
       "      <td>training</td>\n",
       "    </tr>\n",
       "    <tr>\n",
       "      <th>3</th>\n",
       "      <td>1</td>\n",
       "      <td>113464391758290608</td>\n",
       "      <td>2024-11-11T12:46:56.000Z</td>\n",
       "      <td>de</td>\n",
       "      <td>109456243616966336</td>\n",
       "      <td>Lernen und Entwicklung bei IKEA mit Tatevik Mk...</td>\n",
       "      <td>ikea</td>\n",
       "    </tr>\n",
       "    <tr>\n",
       "      <th>4</th>\n",
       "      <td>1</td>\n",
       "      <td>113464391758290608</td>\n",
       "      <td>2024-11-11T12:46:56.000Z</td>\n",
       "      <td>de</td>\n",
       "      <td>109456243616966336</td>\n",
       "      <td>Lernen und Entwicklung bei IKEA mit Tatevik Mk...</td>\n",
       "      <td>Weiterbildung</td>\n",
       "    </tr>\n",
       "    <tr>\n",
       "      <th>...</th>\n",
       "      <td>...</td>\n",
       "      <td>...</td>\n",
       "      <td>...</td>\n",
       "      <td>...</td>\n",
       "      <td>...</td>\n",
       "      <td>...</td>\n",
       "      <td>...</td>\n",
       "    </tr>\n",
       "    <tr>\n",
       "      <th>542</th>\n",
       "      <td>164</td>\n",
       "      <td>113064473902306361</td>\n",
       "      <td>2024-09-01T21:42:33.000Z</td>\n",
       "      <td>en</td>\n",
       "      <td>111002268970402978</td>\n",
       "      <td>More photos from yesterday! Before getting sta...</td>\n",
       "      <td>Chicago</td>\n",
       "    </tr>\n",
       "    <tr>\n",
       "      <th>543</th>\n",
       "      <td>164</td>\n",
       "      <td>113064473902306361</td>\n",
       "      <td>2024-09-01T21:42:33.000Z</td>\n",
       "      <td>en</td>\n",
       "      <td>111002268970402978</td>\n",
       "      <td>More photos from yesterday! Before getting sta...</td>\n",
       "      <td>pastry</td>\n",
       "    </tr>\n",
       "    <tr>\n",
       "      <th>544</th>\n",
       "      <td>164</td>\n",
       "      <td>113064473902306361</td>\n",
       "      <td>2024-09-01T21:42:33.000Z</td>\n",
       "      <td>en</td>\n",
       "      <td>111002268970402978</td>\n",
       "      <td>More photos from yesterday! Before getting sta...</td>\n",
       "      <td>cozy</td>\n",
       "    </tr>\n",
       "    <tr>\n",
       "      <th>545</th>\n",
       "      <td>165</td>\n",
       "      <td>113064393892538732</td>\n",
       "      <td>2024-09-01T21:22:15.000Z</td>\n",
       "      <td>en</td>\n",
       "      <td>110676962360830227</td>\n",
       "      <td>Urge IKEA to Stop Selling Animal Skin #AnimalR...</td>\n",
       "      <td>animalrights</td>\n",
       "    </tr>\n",
       "    <tr>\n",
       "      <th>546</th>\n",
       "      <td>165</td>\n",
       "      <td>113064393892538732</td>\n",
       "      <td>2024-09-01T21:22:15.000Z</td>\n",
       "      <td>en</td>\n",
       "      <td>110676962360830227</td>\n",
       "      <td>Urge IKEA to Stop Selling Animal Skin #AnimalR...</td>\n",
       "      <td>ikea</td>\n",
       "    </tr>\n",
       "  </tbody>\n",
       "</table>\n",
       "<p>409 rows × 7 columns</p>\n",
       "</div>"
      ],
      "text/plain": [
       "     index                  id                created_at language  \\\n",
       "0        0  113470963623530040  2024-11-12T16:38:12.000Z       de   \n",
       "1        0  113470963623530040  2024-11-12T16:38:12.000Z       de   \n",
       "2        1  113464391758290608  2024-11-11T12:46:56.000Z       de   \n",
       "3        1  113464391758290608  2024-11-11T12:46:56.000Z       de   \n",
       "4        1  113464391758290608  2024-11-11T12:46:56.000Z       de   \n",
       "..     ...                 ...                       ...      ...   \n",
       "542    164  113064473902306361  2024-09-01T21:42:33.000Z       en   \n",
       "543    164  113064473902306361  2024-09-01T21:42:33.000Z       en   \n",
       "544    164  113064473902306361  2024-09-01T21:42:33.000Z       en   \n",
       "545    165  113064393892538732  2024-09-01T21:22:15.000Z       en   \n",
       "546    165  113064393892538732  2024-09-01T21:22:15.000Z       en   \n",
       "\n",
       "             account_id                                  extracted_content  \\\n",
       "0    109353323900910324  Ikea hat doch extra metallbedampfte Scheiben o...   \n",
       "1    109353323900910324  Ikea hat doch extra metallbedampfte Scheiben o...   \n",
       "2    109456243616966336  Lernen und Entwicklung bei IKEA mit Tatevik Mk...   \n",
       "3    109456243616966336  Lernen und Entwicklung bei IKEA mit Tatevik Mk...   \n",
       "4    109456243616966336  Lernen und Entwicklung bei IKEA mit Tatevik Mk...   \n",
       "..                  ...                                                ...   \n",
       "542  111002268970402978  More photos from yesterday! Before getting sta...   \n",
       "543  111002268970402978  More photos from yesterday! Before getting sta...   \n",
       "544  111002268970402978  More photos from yesterday! Before getting sta...   \n",
       "545  110676962360830227  Urge IKEA to Stop Selling Animal Skin #AnimalR...   \n",
       "546  110676962360830227  Urge IKEA to Stop Selling Animal Skin #AnimalR...   \n",
       "\n",
       "          tag_name  \n",
       "0             ikea  \n",
       "1     verschworung  \n",
       "2         training  \n",
       "3             ikea  \n",
       "4    Weiterbildung  \n",
       "..             ...  \n",
       "542        Chicago  \n",
       "543         pastry  \n",
       "544           cozy  \n",
       "545   animalrights  \n",
       "546           ikea  \n",
       "\n",
       "[409 rows x 7 columns]"
      ]
     },
     "execution_count": 17,
     "metadata": {},
     "output_type": "execute_result"
    }
   ],
   "source": [
    "clean_df"
   ]
  },
  {
   "cell_type": "markdown",
   "id": "d9ee90dc-bda9-4713-8b11-680708bbe4e2",
   "metadata": {},
   "source": [
    "## Having a closer look at the hashtags"
   ]
  },
  {
   "cell_type": "code",
   "execution_count": 19,
   "id": "6b78cfdb-d321-47c7-b91d-7e41d155e134",
   "metadata": {},
   "outputs": [
    {
     "data": {
      "text/html": [
       "<div>\n",
       "<style scoped>\n",
       "    .dataframe tbody tr th:only-of-type {\n",
       "        vertical-align: middle;\n",
       "    }\n",
       "\n",
       "    .dataframe tbody tr th {\n",
       "        vertical-align: top;\n",
       "    }\n",
       "\n",
       "    .dataframe thead th {\n",
       "        text-align: right;\n",
       "    }\n",
       "</style>\n",
       "<table border=\"1\" class=\"dataframe\">\n",
       "  <thead>\n",
       "    <tr style=\"text-align: right;\">\n",
       "      <th></th>\n",
       "      <th>tag_name</th>\n",
       "      <th>count</th>\n",
       "    </tr>\n",
       "  </thead>\n",
       "  <tbody>\n",
       "    <tr>\n",
       "      <th>0</th>\n",
       "      <td>ikea</td>\n",
       "      <td>128</td>\n",
       "    </tr>\n",
       "    <tr>\n",
       "      <th>1</th>\n",
       "      <td>tradfri</td>\n",
       "      <td>6</td>\n",
       "    </tr>\n",
       "    <tr>\n",
       "      <th>2</th>\n",
       "      <td>diy</td>\n",
       "      <td>6</td>\n",
       "    </tr>\n",
       "    <tr>\n",
       "      <th>3</th>\n",
       "      <td>smarthome</td>\n",
       "      <td>6</td>\n",
       "    </tr>\n",
       "    <tr>\n",
       "      <th>4</th>\n",
       "      <td>homeassistant</td>\n",
       "      <td>5</td>\n",
       "    </tr>\n",
       "    <tr>\n",
       "      <th>5</th>\n",
       "      <td>blahaj</td>\n",
       "      <td>4</td>\n",
       "    </tr>\n",
       "    <tr>\n",
       "      <th>6</th>\n",
       "      <td>capital</td>\n",
       "      <td>3</td>\n",
       "    </tr>\n",
       "    <tr>\n",
       "      <th>7</th>\n",
       "      <td>m6</td>\n",
       "      <td>3</td>\n",
       "    </tr>\n",
       "    <tr>\n",
       "      <th>8</th>\n",
       "      <td>greenpeace</td>\n",
       "      <td>3</td>\n",
       "    </tr>\n",
       "    <tr>\n",
       "      <th>9</th>\n",
       "      <td>furniture</td>\n",
       "      <td>3</td>\n",
       "    </tr>\n",
       "    <tr>\n",
       "      <th>10</th>\n",
       "      <td>3dprinting</td>\n",
       "      <td>2</td>\n",
       "    </tr>\n",
       "    <tr>\n",
       "      <th>11</th>\n",
       "      <td>waldzerstorung</td>\n",
       "      <td>2</td>\n",
       "    </tr>\n",
       "    <tr>\n",
       "      <th>12</th>\n",
       "      <td>ddr</td>\n",
       "      <td>2</td>\n",
       "    </tr>\n",
       "    <tr>\n",
       "      <th>13</th>\n",
       "      <td>zigbee</td>\n",
       "      <td>2</td>\n",
       "    </tr>\n",
       "    <tr>\n",
       "      <th>14</th>\n",
       "      <td>dirigera</td>\n",
       "      <td>2</td>\n",
       "    </tr>\n",
       "    <tr>\n",
       "      <th>15</th>\n",
       "      <td>totaberlustig</td>\n",
       "      <td>2</td>\n",
       "    </tr>\n",
       "    <tr>\n",
       "      <th>16</th>\n",
       "      <td>news</td>\n",
       "      <td>2</td>\n",
       "    </tr>\n",
       "    <tr>\n",
       "      <th>17</th>\n",
       "      <td>protestmail</td>\n",
       "      <td>2</td>\n",
       "    </tr>\n",
       "    <tr>\n",
       "      <th>18</th>\n",
       "      <td>plumbing</td>\n",
       "      <td>2</td>\n",
       "    </tr>\n",
       "    <tr>\n",
       "      <th>19</th>\n",
       "      <td>sink</td>\n",
       "      <td>2</td>\n",
       "    </tr>\n",
       "    <tr>\n",
       "      <th>20</th>\n",
       "      <td>karpaten</td>\n",
       "      <td>2</td>\n",
       "    </tr>\n",
       "    <tr>\n",
       "      <th>21</th>\n",
       "      <td>ikeahack</td>\n",
       "      <td>2</td>\n",
       "    </tr>\n",
       "    <tr>\n",
       "      <th>22</th>\n",
       "      <td>homestead</td>\n",
       "      <td>2</td>\n",
       "    </tr>\n",
       "    <tr>\n",
       "      <th>23</th>\n",
       "      <td>catsofmastodon</td>\n",
       "      <td>2</td>\n",
       "    </tr>\n",
       "    <tr>\n",
       "      <th>24</th>\n",
       "      <td>ukraine</td>\n",
       "      <td>2</td>\n",
       "    </tr>\n",
       "  </tbody>\n",
       "</table>\n",
       "</div>"
      ],
      "text/plain": [
       "          tag_name  count\n",
       "0             ikea    128\n",
       "1          tradfri      6\n",
       "2              diy      6\n",
       "3        smarthome      6\n",
       "4    homeassistant      5\n",
       "5           blahaj      4\n",
       "6          capital      3\n",
       "7               m6      3\n",
       "8       greenpeace      3\n",
       "9        furniture      3\n",
       "10      3dprinting      2\n",
       "11  waldzerstorung      2\n",
       "12             ddr      2\n",
       "13          zigbee      2\n",
       "14        dirigera      2\n",
       "15   totaberlustig      2\n",
       "16            news      2\n",
       "17     protestmail      2\n",
       "18        plumbing      2\n",
       "19            sink      2\n",
       "20        karpaten      2\n",
       "21        ikeahack      2\n",
       "22       homestead      2\n",
       "23  catsofmastodon      2\n",
       "24         ukraine      2"
      ]
     },
     "execution_count": 19,
     "metadata": {},
     "output_type": "execute_result"
    }
   ],
   "source": [
    "tags_count = clean_df[\"tag_name\"].value_counts().reset_index()\n",
    "tags_count.head(25)"
   ]
  },
  {
   "cell_type": "markdown",
   "id": "d1fa142d-1bd1-43f4-8dda-a4906013dc88",
   "metadata": {},
   "source": [
    "**Some Notes**\n",
    "\n",
    "I recommend checking on hashtags, one does not understand - to get to know what's behind it. I checked on zigbee, m6 and totaberlustig. Zigbee is some smart home solution. M6 refers to the French television network, there was a program about IKEA in the show Capital. totaberlustig references to a comedian. \n",
    "\n",
    "You might stumble upon wrong labelling of languages and many other things. As an example for extensive cleaning check my other noteboook. \n",
    "\n",
    "For now, move on."
   ]
  },
  {
   "cell_type": "markdown",
   "id": "4efe5575-9d85-462b-ba91-894a78a25d7f",
   "metadata": {},
   "source": [
    "**Checking posts around sustainability**"
   ]
  },
  {
   "cell_type": "code",
   "execution_count": 31,
   "id": "58dfffcb-adf9-4fe4-962a-8c155d85af8b",
   "metadata": {},
   "outputs": [],
   "source": [
    "sustainability = [\"greenwashing\", \"klimaschutz\", \"klima\", \"umwelt\", \n",
    "                  \"umweltschutz\", \"nachhaltig\", \"nachhaltigkeit\", \"recycling\", \n",
    "                  \"deforestation\", \"environmental\", \"environment\", \"forets\",\n",
    "                 \"greenpeace\", \"waldzerstorung\"]"
   ]
  },
  {
   "cell_type": "code",
   "execution_count": 32,
   "id": "17d9b2b2-579d-4a61-9e68-393c5997e3fe",
   "metadata": {},
   "outputs": [],
   "source": [
    "df_sustainable = clean_df[clean_df[\"tag_name\"].isin(sustainability)]"
   ]
  },
  {
   "cell_type": "code",
   "execution_count": 33,
   "id": "e7404c5d-74ef-4f1f-9251-2a35aec2285b",
   "metadata": {},
   "outputs": [
    {
     "name": "stdout",
     "output_type": "stream",
     "text": [
      "@rootsandcalluses Irgendwie bin ich nicht überrascht. Gibt es bei #IKEA überhaupt wertige Produkte?Ich beispielsweise fahre mit gebrauchtem Ceracron, Friesland, Melitta, Rosenthal, Thomas z.B. bisher sehr gut. #Keramik #Nachhaltigkeit #Porzellan #Steingut\n",
      "---------------------------------------------\n",
      "Ikea mal nen Brief schicken und nett nachfragen ob sie bitte nicht Europas letzten Urwald fällen mögen...https://act.greenpeace.de/offenerbrief-ikea-g#greenpeace #savetheplanet #ikea #FuckElon #savethefuckingplanetbeforeitstoolate\n",
      "---------------------------------------------\n",
      ">#Waldzerstörung: #IKEA ist nachhaltig? Von wegen<Offener Brief an Ikea  - Jeder ist willkommen ihn zu unterschreiben! 🙏#Ecocide #Topocide #Climatecrisis #Biodiversity  #DemocracyForFuture  https://youtube.com/watch?v=05HRzxUnNn8&si=FN0f8FTZ7BtC86f7\n",
      "---------------------------------------------\n",
      "#DorotheaEpperl, #Greenpeace-Kolleg:innen aus #Rumänien und Vertreter:innen von #Ikea waren in den Wäldern der #Karpaten. Gemeinsam haben sie sich Gebiete angeguckt, wo das Leben noch summt und Tiere und Pflanzen im Gleichgewicht sind. Aber auch zerstörte Flächen, wo immer mehr #Bäume gefällt und #Lebensraum zerstört wird, haben wir uns angeschaut. Hat das Ausmaß der #Zerstörung Ikea wachgerüttelt ?Leider nein. Ikea beruft sich weiterhin darauf, dass ihre Fällungen nicht #illegal sind. Es gibt bisher kein Gesetz, das diese #Waldzerstörung verbietet. Jetzt #Protestmail schicken → https://act.greenpeace.de/protestmail-ikea\n",
      "---------------------------------------------\n",
      "send a mail to #ikea https://act.greenpeace.de/protestmail-ikea?_hsenc=p2ANqtz-8TmbwmcEWqbR2oerB6vaOF3KAv8xjXwB5VRCLSfBsh8uMcyxON-aa-MzZkCi8kSaCd6tiHPZpm1Ql5nlna17LgjfJzPzSUNfY-TS0UIzNuP_F3Q5k&_hsmi=96587757#greenpeace\n",
      "---------------------------------------------\n",
      "🙅 Refusons la #surconsommation et #greenwashing associé que nous vendent les multinationales comme #ikea 🌲🌳🪓@XR_Bordeaux propose une petite vidéo de sensibilisation sur le sujet 😉#StopDeforestation\n",
      "---------------------------------------------\n"
     ]
    }
   ],
   "source": [
    "# as described before, explode() results in almost exact copies of some rows (except for tag name)\n",
    "# we only need the content once, to avoid duplicates utilizing drop_duplicates\n",
    "sustainable = df_sustainable.drop_duplicates(\"extracted_content\")[\"extracted_content\"].to_list()\n",
    "for post in sustainable[:10]:\n",
    "    print(post)\n",
    "    print(\"---------------------------------------------\")"
   ]
  },
  {
   "cell_type": "code",
   "execution_count": 27,
   "id": "803f657a-b996-4fac-bc57-cbd624ad2e5f",
   "metadata": {},
   "outputs": [
    {
     "data": {
      "text/plain": [
       "6"
      ]
     },
     "execution_count": 27,
     "metadata": {},
     "output_type": "execute_result"
    }
   ],
   "source": [
    "len(sustainable)"
   ]
  },
  {
   "cell_type": "code",
   "execution_count": null,
   "id": "556e91f2-7912-4d75-b947-c3d4a9156492",
   "metadata": {},
   "outputs": [],
   "source": []
  }
 ],
 "metadata": {
  "kernelspec": {
   "display_name": "Python 3 (ipykernel)",
   "language": "python",
   "name": "python3"
  },
  "language_info": {
   "codemirror_mode": {
    "name": "ipython",
    "version": 3
   },
   "file_extension": ".py",
   "mimetype": "text/x-python",
   "name": "python",
   "nbconvert_exporter": "python",
   "pygments_lexer": "ipython3",
   "version": "3.10.12"
  }
 },
 "nbformat": 4,
 "nbformat_minor": 5
}

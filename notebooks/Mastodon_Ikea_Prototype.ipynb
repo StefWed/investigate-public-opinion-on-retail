{
 "cells": [
  {
   "cell_type": "markdown",
   "id": "d26516d7-6d92-470b-8800-934cef4d4f29",
   "metadata": {},
   "source": [
    "# Scraping Toots about IKEA from Mastodon Social \n",
    "\n",
    "This notebook is a bit more advanced. It will only come with little explanations regarding the code. If you need more guidance, please refer to the notebook Mastodon_Migros_Prototype."
   ]
  },
  {
   "cell_type": "markdown",
   "id": "df7c8981-4fe4-44f1-a5ea-01747572b5f4",
   "metadata": {},
   "source": [
    "## Load libraries and modules"
   ]
  },
  {
   "cell_type": "code",
   "execution_count": 2,
   "id": "5668a5f8-60a7-49fa-a34b-866f8485fcac",
   "metadata": {},
   "outputs": [],
   "source": [
    "import json\n",
    "import requests\n",
    "import pandas as pd"
   ]
  },
  {
   "cell_type": "code",
   "execution_count": 3,
   "id": "d2fce9be-0d6f-4ebe-8b65-d26ac0a5906c",
   "metadata": {},
   "outputs": [],
   "source": [
    "from bs4 import BeautifulSoup"
   ]
  },
  {
   "cell_type": "markdown",
   "id": "f4a62b36-1fba-469f-9d92-3c789260712c",
   "metadata": {},
   "source": [
    "## Preparation - Defining Parameters, Flags, and a Timeframe"
   ]
  },
  {
   "cell_type": "code",
   "execution_count": 4,
   "id": "246a5710-c5aa-4d60-8834-065f6f407fe2",
   "metadata": {},
   "outputs": [],
   "source": [
    "hashtag = 'ikea'\n",
    "URL = f'https://mastodon.social/api/v1/timelines/tag/{hashtag}'"
   ]
  },
  {
   "cell_type": "markdown",
   "id": "99a10bad-4ad9-49b7-b568-3a238170831b",
   "metadata": {},
   "source": [
    "## Browsing and scraping\n",
    "\n",
    "The following code now actually fetches recent posts with a specific hashtag from Mastodon and stores them in a Pandas DataFrame."
   ]
  },
  {
   "cell_type": "code",
   "execution_count": 48,
   "id": "d194dd01-a899-4df5-9cab-49f646485395",
   "metadata": {},
   "outputs": [
    {
     "name": "stdout",
     "output_type": "stream",
     "text": [
      "STATUS OF YOUR SCRAPING\n",
      "STATUS OF YOUR SCRAPING\n",
      "STATUS OF YOUR SCRAPING\n",
      "STATUS OF YOUR SCRAPING\n",
      "STATUS OF YOUR SCRAPING\n",
      "STATUS OF YOUR SCRAPING\n",
      "STATUS OF YOUR SCRAPING\n",
      "STATUS OF YOUR SCRAPING\n",
      "STATUS OF YOUR SCRAPING\n",
      "STATUS OF YOUR SCRAPING\n",
      "STATUS OF YOUR SCRAPING\n",
      "STATUS OF YOUR SCRAPING\n",
      "STATUS OF YOUR SCRAPING\n",
      "STATUS OF YOUR SCRAPING\n",
      "STATUS OF YOUR SCRAPING\n",
      "STATUS OF YOUR SCRAPING\n",
      "STATUS OF YOUR SCRAPING\n",
      "STATUS OF YOUR SCRAPING\n",
      "STATUS OF YOUR SCRAPING\n",
      "STATUS OF YOUR SCRAPING\n",
      "STATUS OF YOUR SCRAPING\n",
      "STATUS OF YOUR SCRAPING\n",
      "STATUS OF YOUR SCRAPING\n",
      "STATUS OF YOUR SCRAPING\n",
      "STATUS OF YOUR SCRAPING\n",
      "STATUS OF YOUR SCRAPING\n",
      "STATUS OF YOUR SCRAPING\n"
     ]
    }
   ],
   "source": [
    "params = {'limit': 40}\n",
    "\n",
    "since = pd.Timestamp('2024-01-01 00:00:00', tz='UTC')\n",
    "is_end = False\n",
    "\n",
    "\n",
    "results = []\n",
    "chunk_no = 1\n",
    "\n",
    "while True:\n",
    "\n",
    "    try:\n",
    "        response = requests.get(URL, params=params)\n",
    "        print(\"STATUS OF YOUR SCRAPING\")\n",
    "        #print(\"OK - scraping of chunk no {} worked.\".format(chunk_no))\n",
    "        #print(\"--------------------------------\")\n",
    "        chunk_no += 1\n",
    "        response.close()\n",
    "    except:\n",
    "        print(\"An error occured.\" \n",
    "              \"The http status code is {}\".format(response.status_code))\n",
    "    \n",
    "    toots = json.loads(response.text)\n",
    "\n",
    "    if len(toots) == 0:\n",
    "        print(\"There were no toots returned. \" \n",
    "              \"Check for spelling or use another hashtag\")\n",
    "        break\n",
    "    \n",
    "    for toot in toots:\n",
    "        timestamp = pd.Timestamp(toot['created_at'], tz='utc')\n",
    "        if timestamp <= since:\n",
    "            is_end = True\n",
    "            break\n",
    "            \n",
    "        results.append(toot)\n",
    "    \n",
    "    if is_end:\n",
    "        break\n",
    "    \n",
    "    max_id = toots[-1]['id']\n",
    "    params['max_id'] = max_id\n",
    "\n",
    "    \n",
    "df = pd.DataFrame(results)"
   ]
  },
  {
   "cell_type": "markdown",
   "id": "fa37d571-5398-4692-84a2-0c78e8140e0e",
   "metadata": {},
   "source": [
    "## Results and DF"
   ]
  },
  {
   "cell_type": "code",
   "execution_count": 49,
   "id": "4fab5250-3725-4391-ab72-4369ff1c80fa",
   "metadata": {},
   "outputs": [
    {
     "data": {
      "text/plain": [
       "(1050, 24)"
      ]
     },
     "execution_count": 49,
     "metadata": {},
     "output_type": "execute_result"
    }
   ],
   "source": [
    "df.shape"
   ]
  },
  {
   "cell_type": "code",
   "execution_count": 50,
   "id": "bd72c9bd-1b5b-4e15-8716-1ffecc27a123",
   "metadata": {},
   "outputs": [
    {
     "data": {
      "text/plain": [
       "Index(['id', 'created_at', 'in_reply_to_id', 'in_reply_to_account_id',\n",
       "       'sensitive', 'spoiler_text', 'visibility', 'language', 'uri', 'url',\n",
       "       'replies_count', 'reblogs_count', 'favourites_count', 'edited_at',\n",
       "       'content', 'reblog', 'account', 'media_attachments', 'mentions', 'tags',\n",
       "       'emojis', 'card', 'poll', 'application'],\n",
       "      dtype='object')"
      ]
     },
     "execution_count": 50,
     "metadata": {},
     "output_type": "execute_result"
    }
   ],
   "source": [
    "df.columns"
   ]
  },
  {
   "cell_type": "markdown",
   "id": "494469e1-4146-4443-90ef-a5b221735108",
   "metadata": {},
   "source": [
    "## Cleaning up the data - respectively the DataFrame"
   ]
  },
  {
   "cell_type": "code",
   "execution_count": 51,
   "id": "658d323c-b840-4a79-a976-d848d696eaab",
   "metadata": {},
   "outputs": [],
   "source": [
    "df['account_id'] = df['account'].apply(lambda x: x['id'])\n",
    "#df_small = df[[\"id\", \"created_at\", \"language\", \"account_id\", \"content\", \"tags\"]]\n",
    "#df_small.head()"
   ]
  },
  {
   "cell_type": "markdown",
   "id": "3b103f4a-a9b0-4c06-b6de-3532c2d2d514",
   "metadata": {},
   "source": [
    "**Using explode on the tags column**"
   ]
  },
  {
   "cell_type": "code",
   "execution_count": 52,
   "id": "038fd97b-afce-4b1b-af06-435fa704fa4c",
   "metadata": {},
   "outputs": [],
   "source": [
    "df = df.explode(\"tags\").reset_index()\n"
   ]
  },
  {
   "cell_type": "code",
   "execution_count": null,
   "id": "45020ca1-21ed-4d0b-956d-2d125a60e36a",
   "metadata": {},
   "outputs": [],
   "source": [
    "#df.head()"
   ]
  },
  {
   "cell_type": "markdown",
   "id": "3198e835-0e1a-46df-932d-c751e9649aee",
   "metadata": {},
   "source": [
    "**Cleaning a little more the tags column**"
   ]
  },
  {
   "cell_type": "code",
   "execution_count": 53,
   "id": "2050c3da-4f14-4e80-9a6f-84c9aa0b24e7",
   "metadata": {},
   "outputs": [],
   "source": [
    "df[\"tag_name\"] = df[\"tags\"].apply(lambda y: y['name'])"
   ]
  },
  {
   "cell_type": "markdown",
   "id": "33d4ca17-ae1d-4242-a757-4361e772b0fb",
   "metadata": {},
   "source": [
    "**Extracting the text from the content column**"
   ]
  },
  {
   "cell_type": "code",
   "execution_count": 54,
   "id": "ef102a68-e5e2-4632-b6fd-b8ab79f11116",
   "metadata": {},
   "outputs": [],
   "source": [
    "def extract_text_from_html(html):\n",
    "\n",
    "    \"\"\"Parsing a string which is in html code to extract actual text.\n",
    "\n",
    "    Parameters\n",
    "    ----------\n",
    "    html : string\n",
    "        String that stores the content of the post (or any text) in html.\n",
    "\n",
    "    Returns\n",
    "    -------\n",
    "    soup.get_text() : string\n",
    "        A string with the actual text, without any html tags etc.\n",
    "    \"\"\"\n",
    "    \n",
    "    soup = BeautifulSoup(html, 'html.parser')\n",
    "    return soup.get_text()\n",
    "\n"
   ]
  },
  {
   "cell_type": "code",
   "execution_count": 55,
   "id": "56ea0f90-eaf9-44b5-bfde-339dfbf2d801",
   "metadata": {},
   "outputs": [],
   "source": [
    "df[\"extracted_content\"] = df[\"content\"].apply(extract_text_from_html)"
   ]
  },
  {
   "cell_type": "markdown",
   "id": "64d98e0f-d465-45ce-b09e-fafed22f32f0",
   "metadata": {},
   "source": [
    "**Narrowing down the DataFrame**"
   ]
  },
  {
   "cell_type": "code",
   "execution_count": 56,
   "id": "870f62c9-edf4-419c-a4e9-b5f0cea51266",
   "metadata": {},
   "outputs": [],
   "source": [
    "df_small = df[[\n",
    "    \"index\", \n",
    "    \"id\", \n",
    "    \"created_at\", \n",
    "    \"language\", \n",
    "    \"account_id\", \n",
    "    \"extracted_content\", \n",
    "    \"tag_name\"]]"
   ]
  },
  {
   "cell_type": "code",
   "execution_count": 57,
   "id": "fa6e4c7d-163a-46ed-8b7d-7a37efd3a9de",
   "metadata": {},
   "outputs": [
    {
     "data": {
      "text/html": [
       "<div>\n",
       "<style scoped>\n",
       "    .dataframe tbody tr th:only-of-type {\n",
       "        vertical-align: middle;\n",
       "    }\n",
       "\n",
       "    .dataframe tbody tr th {\n",
       "        vertical-align: top;\n",
       "    }\n",
       "\n",
       "    .dataframe thead th {\n",
       "        text-align: right;\n",
       "    }\n",
       "</style>\n",
       "<table border=\"1\" class=\"dataframe\">\n",
       "  <thead>\n",
       "    <tr style=\"text-align: right;\">\n",
       "      <th></th>\n",
       "      <th>index</th>\n",
       "      <th>id</th>\n",
       "      <th>created_at</th>\n",
       "      <th>language</th>\n",
       "      <th>account_id</th>\n",
       "      <th>extracted_content</th>\n",
       "      <th>tag_name</th>\n",
       "    </tr>\n",
       "  </thead>\n",
       "  <tbody>\n",
       "    <tr>\n",
       "      <th>0</th>\n",
       "      <td>0</td>\n",
       "      <td>113314594177757198</td>\n",
       "      <td>2024-10-16T01:51:29.000Z</td>\n",
       "      <td>en</td>\n",
       "      <td>109455979333972647</td>\n",
       "      <td>Sometimes, we should learn more from our envir...</td>\n",
       "      <td>cybersecurity</td>\n",
       "    </tr>\n",
       "    <tr>\n",
       "      <th>1</th>\n",
       "      <td>0</td>\n",
       "      <td>113314594177757198</td>\n",
       "      <td>2024-10-16T01:51:29.000Z</td>\n",
       "      <td>en</td>\n",
       "      <td>109455979333972647</td>\n",
       "      <td>Sometimes, we should learn more from our envir...</td>\n",
       "      <td>ikea</td>\n",
       "    </tr>\n",
       "    <tr>\n",
       "      <th>2</th>\n",
       "      <td>1</td>\n",
       "      <td>113313239562925427</td>\n",
       "      <td>2024-10-15T20:07:00.483Z</td>\n",
       "      <td>de</td>\n",
       "      <td>113283168624628309</td>\n",
       "      <td>@ninja_turtle und eine neue Duftkerze? Ich nim...</td>\n",
       "      <td>duftkerze</td>\n",
       "    </tr>\n",
       "    <tr>\n",
       "      <th>3</th>\n",
       "      <td>1</td>\n",
       "      <td>113313239562925427</td>\n",
       "      <td>2024-10-15T20:07:00.483Z</td>\n",
       "      <td>de</td>\n",
       "      <td>113283168624628309</td>\n",
       "      <td>@ninja_turtle und eine neue Duftkerze? Ich nim...</td>\n",
       "      <td>ikea</td>\n",
       "    </tr>\n",
       "    <tr>\n",
       "      <th>4</th>\n",
       "      <td>2</td>\n",
       "      <td>113312810493539002</td>\n",
       "      <td>2024-10-15T18:17:53.402Z</td>\n",
       "      <td>de</td>\n",
       "      <td>113282508677757328</td>\n",
       "      <td>was wäre ein Ikea-Besuch ohne einen Hotdog #ik...</td>\n",
       "      <td>ikea</td>\n",
       "    </tr>\n",
       "  </tbody>\n",
       "</table>\n",
       "</div>"
      ],
      "text/plain": [
       "   index                  id                created_at language  \\\n",
       "0      0  113314594177757198  2024-10-16T01:51:29.000Z       en   \n",
       "1      0  113314594177757198  2024-10-16T01:51:29.000Z       en   \n",
       "2      1  113313239562925427  2024-10-15T20:07:00.483Z       de   \n",
       "3      1  113313239562925427  2024-10-15T20:07:00.483Z       de   \n",
       "4      2  113312810493539002  2024-10-15T18:17:53.402Z       de   \n",
       "\n",
       "           account_id                                  extracted_content  \\\n",
       "0  109455979333972647  Sometimes, we should learn more from our envir...   \n",
       "1  109455979333972647  Sometimes, we should learn more from our envir...   \n",
       "2  113283168624628309  @ninja_turtle und eine neue Duftkerze? Ich nim...   \n",
       "3  113283168624628309  @ninja_turtle und eine neue Duftkerze? Ich nim...   \n",
       "4  113282508677757328  was wäre ein Ikea-Besuch ohne einen Hotdog #ik...   \n",
       "\n",
       "        tag_name  \n",
       "0  cybersecurity  \n",
       "1           ikea  \n",
       "2      duftkerze  \n",
       "3           ikea  \n",
       "4           ikea  "
      ]
     },
     "execution_count": 57,
     "metadata": {},
     "output_type": "execute_result"
    }
   ],
   "source": [
    "df_small.head()"
   ]
  },
  {
   "cell_type": "code",
   "execution_count": 69,
   "id": "0b5195f6-a25d-4780-9859-352b84eb0c6e",
   "metadata": {},
   "outputs": [
    {
     "data": {
      "text/plain": [
       "array(['en', 'de', 'fr', 'sv'], dtype=object)"
      ]
     },
     "execution_count": 69,
     "metadata": {},
     "output_type": "execute_result"
    }
   ],
   "source": [
    "df_small[\"language\"].unique()"
   ]
  },
  {
   "cell_type": "code",
   "execution_count": 61,
   "id": "d131764d-d214-40fc-8fcd-b696e45bdf39",
   "metadata": {},
   "outputs": [],
   "source": [
    "# languages that I can read and therefore interpret texts, hashtags\n",
    "language_competences = [\"en\", \"de\", \"fr\", \"sv\"] "
   ]
  },
  {
   "cell_type": "code",
   "execution_count": 64,
   "id": "f86399e8-8666-44e0-aece-03e3edb2346e",
   "metadata": {},
   "outputs": [],
   "source": [
    "df_small = df_small[df_small['language'].isin(language_competences) == True]"
   ]
  },
  {
   "cell_type": "code",
   "execution_count": 68,
   "id": "db71763a-bf8e-43ac-a250-4d7ca2ad4cbd",
   "metadata": {},
   "outputs": [
    {
     "data": {
      "text/plain": [
       "array(['en', 'de', 'fr', 'sv'], dtype=object)"
      ]
     },
     "execution_count": 68,
     "metadata": {},
     "output_type": "execute_result"
    }
   ],
   "source": [
    "df_small[\"language\"].unique()"
   ]
  },
  {
   "cell_type": "markdown",
   "id": "d9ee90dc-bda9-4713-8b11-680708bbe4e2",
   "metadata": {},
   "source": [
    "## Having a closer look at the hashtags"
   ]
  },
  {
   "cell_type": "code",
   "execution_count": 71,
   "id": "6b78cfdb-d321-47c7-b91d-7e41d155e134",
   "metadata": {},
   "outputs": [
    {
     "data": {
      "text/html": [
       "<div>\n",
       "<style scoped>\n",
       "    .dataframe tbody tr th:only-of-type {\n",
       "        vertical-align: middle;\n",
       "    }\n",
       "\n",
       "    .dataframe tbody tr th {\n",
       "        vertical-align: top;\n",
       "    }\n",
       "\n",
       "    .dataframe thead th {\n",
       "        text-align: right;\n",
       "    }\n",
       "</style>\n",
       "<table border=\"1\" class=\"dataframe\">\n",
       "  <thead>\n",
       "    <tr style=\"text-align: right;\">\n",
       "      <th></th>\n",
       "      <th>tag_name</th>\n",
       "      <th>count</th>\n",
       "    </tr>\n",
       "  </thead>\n",
       "  <tbody>\n",
       "    <tr>\n",
       "      <th>0</th>\n",
       "      <td>ikea</td>\n",
       "      <td>868</td>\n",
       "    </tr>\n",
       "    <tr>\n",
       "      <th>1</th>\n",
       "      <td>blahaj</td>\n",
       "      <td>25</td>\n",
       "    </tr>\n",
       "    <tr>\n",
       "      <th>2</th>\n",
       "      <td>zpravicky</td>\n",
       "      <td>20</td>\n",
       "    </tr>\n",
       "    <tr>\n",
       "      <th>3</th>\n",
       "      <td>diy</td>\n",
       "      <td>18</td>\n",
       "    </tr>\n",
       "    <tr>\n",
       "      <th>4</th>\n",
       "      <td>arte</td>\n",
       "      <td>17</td>\n",
       "    </tr>\n",
       "    <tr>\n",
       "      <th>5</th>\n",
       "      <td>furniture</td>\n",
       "      <td>17</td>\n",
       "    </tr>\n",
       "    <tr>\n",
       "      <th>6</th>\n",
       "      <td>chytradomacnost</td>\n",
       "      <td>17</td>\n",
       "    </tr>\n",
       "    <tr>\n",
       "      <th>7</th>\n",
       "      <td>tradfri</td>\n",
       "      <td>16</td>\n",
       "    </tr>\n",
       "    <tr>\n",
       "      <th>8</th>\n",
       "      <td>smarthome</td>\n",
       "      <td>15</td>\n",
       "    </tr>\n",
       "    <tr>\n",
       "      <th>9</th>\n",
       "      <td>homeassistant</td>\n",
       "      <td>14</td>\n",
       "    </tr>\n",
       "    <tr>\n",
       "      <th>10</th>\n",
       "      <td>greenwashing</td>\n",
       "      <td>14</td>\n",
       "    </tr>\n",
       "    <tr>\n",
       "      <th>11</th>\n",
       "      <td>3dprinting</td>\n",
       "      <td>13</td>\n",
       "    </tr>\n",
       "    <tr>\n",
       "      <th>12</th>\n",
       "      <td>zigbee</td>\n",
       "      <td>12</td>\n",
       "    </tr>\n",
       "    <tr>\n",
       "      <th>13</th>\n",
       "      <td>deforestation</td>\n",
       "      <td>11</td>\n",
       "    </tr>\n",
       "    <tr>\n",
       "      <th>14</th>\n",
       "      <td>nachhaltigkeit</td>\n",
       "      <td>11</td>\n",
       "    </tr>\n",
       "    <tr>\n",
       "      <th>15</th>\n",
       "      <td>globalnews</td>\n",
       "      <td>11</td>\n",
       "    </tr>\n",
       "    <tr>\n",
       "      <th>16</th>\n",
       "      <td>interiordesign</td>\n",
       "      <td>10</td>\n",
       "    </tr>\n",
       "    <tr>\n",
       "      <th>17</th>\n",
       "      <td>photography</td>\n",
       "      <td>10</td>\n",
       "    </tr>\n",
       "    <tr>\n",
       "      <th>18</th>\n",
       "      <td>roblox</td>\n",
       "      <td>10</td>\n",
       "    </tr>\n",
       "    <tr>\n",
       "      <th>19</th>\n",
       "      <td>cesko</td>\n",
       "      <td>10</td>\n",
       "    </tr>\n",
       "    <tr>\n",
       "      <th>20</th>\n",
       "      <td>news</td>\n",
       "      <td>9</td>\n",
       "    </tr>\n",
       "    <tr>\n",
       "      <th>21</th>\n",
       "      <td>canada</td>\n",
       "      <td>9</td>\n",
       "    </tr>\n",
       "    <tr>\n",
       "      <th>22</th>\n",
       "      <td>consumer</td>\n",
       "      <td>8</td>\n",
       "    </tr>\n",
       "    <tr>\n",
       "      <th>23</th>\n",
       "      <td>forets</td>\n",
       "      <td>8</td>\n",
       "    </tr>\n",
       "    <tr>\n",
       "      <th>24</th>\n",
       "      <td>sweden</td>\n",
       "      <td>7</td>\n",
       "    </tr>\n",
       "  </tbody>\n",
       "</table>\n",
       "</div>"
      ],
      "text/plain": [
       "           tag_name  count\n",
       "0              ikea    868\n",
       "1            blahaj     25\n",
       "2         zpravicky     20\n",
       "3               diy     18\n",
       "4              arte     17\n",
       "5         furniture     17\n",
       "6   chytradomacnost     17\n",
       "7           tradfri     16\n",
       "8         smarthome     15\n",
       "9     homeassistant     14\n",
       "10     greenwashing     14\n",
       "11       3dprinting     13\n",
       "12           zigbee     12\n",
       "13    deforestation     11\n",
       "14   nachhaltigkeit     11\n",
       "15       globalnews     11\n",
       "16   interiordesign     10\n",
       "17      photography     10\n",
       "18           roblox     10\n",
       "19            cesko     10\n",
       "20             news      9\n",
       "21           canada      9\n",
       "22         consumer      8\n",
       "23           forets      8\n",
       "24           sweden      7"
      ]
     },
     "execution_count": 71,
     "metadata": {},
     "output_type": "execute_result"
    }
   ],
   "source": [
    "tags_count = df_small[\"tag_name\"].value_counts().reset_index()\n",
    "tags_count.head(25)"
   ]
  },
  {
   "cell_type": "markdown",
   "id": "d1fa142d-1bd1-43f4-8dda-a4906013dc88",
   "metadata": {},
   "source": [
    "**Some Notes**\n",
    "\n",
    "I recommend checking on hashtags, one does not understand - know what's behind it. I checked on zpravicky, chytradomacnost, cesko and zigbee. The first three come from an account where langugae is marked as \"en\" but posts are in Czech. They come from the same account, going to drop the account. Not without checking beforehand if all the account's posts are actually in Czech."
   ]
  },
  {
   "cell_type": "code",
   "execution_count": 85,
   "id": "f72c4cdb-0861-4a05-aa2b-1157bfdadf0d",
   "metadata": {},
   "outputs": [],
   "source": [
    "accounts_to_drop = [\"110428422327008517\"]"
   ]
  },
  {
   "cell_type": "code",
   "execution_count": 94,
   "id": "b5410e2b-0478-45ad-8ef8-78ed0c2cffee",
   "metadata": {},
   "outputs": [],
   "source": [
    "df_small = df_small[df_small['account_id'].isin(accounts_to_drop) == False]"
   ]
  },
  {
   "cell_type": "markdown",
   "id": "4efe5575-9d85-462b-ba91-894a78a25d7f",
   "metadata": {},
   "source": [
    "**Checking posts around sustainability**"
   ]
  },
  {
   "cell_type": "code",
   "execution_count": 98,
   "id": "58dfffcb-adf9-4fe4-962a-8c155d85af8b",
   "metadata": {},
   "outputs": [],
   "source": [
    "sustainability = [\"greenwashing\", \"klimaschutz\", \"klima\", \"umwelt\", \"umweltschutz\", \"nachhaltig\", \"nachhaltigkeit\", \"recycling\", \"deforestation\", \"environmental\"]"
   ]
  },
  {
   "cell_type": "code",
   "execution_count": 99,
   "id": "17d9b2b2-579d-4a61-9e68-393c5997e3fe",
   "metadata": {},
   "outputs": [],
   "source": [
    "df_sustainable = df_flat_small[df_flat_small[\"tag_name\"].isin(sustainability)]"
   ]
  },
  {
   "cell_type": "code",
   "execution_count": 102,
   "id": "e7404c5d-74ef-4f1f-9251-2a35aec2285b",
   "metadata": {},
   "outputs": [
    {
     "name": "stdout",
     "output_type": "stream",
     "text": [
      "🙅 Refusons la #surconsommation et #greenwashing associé que nous vendent les multinationales comme #ikea 🌲🌳🪓@XR_Bordeaux propose une petite vidéo de sensibilisation sur le sujet 😉#StopDeforestation\n",
      "---------------------------------------------\n",
      "⏳️ Sensibilisation sur la déforestation par Extinction Rebellion Bordeauxhttps://tube.extinctionrebellion.fr/videos/watch/d03c725c-80b3-45bc-a35f-25f33bd5961f\n",
      "---------------------------------------------\n",
      "Ich wusste gar nicht, dass deren Möbel überhaupt so lange halten.\n",
      "\n",
      "Ganz abgesehen davon holzt IKEA unsere Wälder ab in Rumänien u. a. ... 🤬 #ikea #umwelt #umweltschutz #klima #holzmafiaRE: https://bsky.app/profile/did:plc:vk2mooi24pafrjmhpg4ymrv3/post/3l2moh4uoci2r\n",
      "---------------------------------------------\n",
      "Ich möchte gerne eine semi-geheime Information über #IKEA weitergeben:Die Trinkflasche \"ENKELSPÅRIG\" hat im Deckel einen Dichtungsring aus Silikon, der leider leicht rausfällt und verloren geht, wodurch die eigentlich unverwüstliche Flasche plötzlich Schrott ist. Die #Ersatzteilnummer ist quasi nicht zu finden und ist laut Hotline 10050684. Wenn man das Teil bestellt, gibt es weder Bild noch Beschreibung 🙄. Komische #nachhaltigkeit ...#Ersatzteil #righttorepair\n",
      "---------------------------------------------\n",
      "Buying #IKEA means supporting rampant #deforestation enforced by #mafia leaving a trail of murdered environmental activists. #boycottIKEA Wer IKEA kauft, unterstützt die zügellose Abholzung, die von der Mafia durchgesetzt wird und eine Spur von ermordeten Umweltaktivisten hinterlässt. https://www.youtube.com/watch?v=PHmkFX15I-E\n",
      "---------------------------------------------\n",
      "Eko: For nearly a decade, #IKEA has been on a land-buying frenzy, snapping up old-growth #forests in #Romania.The furniture giant is now the largest private landowner in the country…and shocking new reports just exposed its destructive logging practices in some of Europe’s last ancient forests.In response, IKEA launched a PR push to discredit the research and misled the public. https://action.eko.org/a/stop-ikea-from-destroying-europe-s-last-ancient-forests#environment #deforestation\n",
      "---------------------------------------------\n",
      "#IKEA steht unter Druck wegen seiner #Holzbeschaffungspraktiken, die mit der Zerstörung von Rumäniens alten Wäldern in Verbindung gebracht werden. Berichte von #Greenpeace, #AgentGreen und dem Bruno Manser Fonds werfen IKEA vor, trotz #Nachhaltigkeitsversprechen destruktive #Rodungen in den #Karpaten durchzuführen. IKEA bestreitet die Vorwürfe und betont die Einhaltung nationaler und europäischer Gesetze. #Waldschutz #Nachhaltigkeit #Rumänien #Umweltschutzhttps://news.mongabay.com/2024/04/ikea-blamed-for-romanian-forest-destruction/\n",
      "---------------------------------------------\n",
      "\"...investigations by Greenpeace and fellow environmental groups Agent Green and the Bruno Manser Fonds focus on IKEA’s procurement of wood from ecologically sensitive areas in Romania’s Carpathian Mountains.Inter IKEA Group, the franchisor responsible for the IKEA supply chain, and Ingka told Mongabay they “strongly disagree” with the findings and that the operations complied with national and European laws.\"Responding in terms that don't address the accusation. Typical PR greenwashy spin: the issue is *not* legality but whether wood is being sourced from old growth forest. I take it then, that Ikea *are* procuring timber from old growth trees, show us that's wrong!The issue is not whether it's legal but whether it's right.#Ikea #greenwashing #Greenpeace\n",
      "---------------------------------------------\n",
      "Ich hab' ja selbst schuld. Was gucke ich mir auch die Doku über #IKEA an. Da ist Entsetzen und schlechte Laune unvermeidbar. Und dass das #FSC-Siegel gekauftes #Greenwashing ist, war mir auch schon vorher klar. Gilt schließlich für alle Siegel.Damit nicht nur mein Abend verdorben ist:\"Wie Ikea den Planeten plündert | Doku HD | ARTE\"https://www.youtube.com/watch?v=pOki83hz5HA&t=1\n",
      "---------------------------------------------\n",
      "@Dragofix IKEA and the logging mafia that is deeply entrenched in the country are the biggest organisations to blame for our uncontrollable deforestation.Politicians are paid off, have connections or relatives that are in this mafia 'business'.Any 'proper' arrests are of small pawns such as drivers or people insignificant in the grand scheme of things, the media and the people get their pound of flesh, and new people get hired, or old people come back in their positions and nothing changes. The cycle continues to no end.#Romania #IKEA #mafia #forestmafia #deforestation #corruption\n",
      "---------------------------------------------\n"
     ]
    }
   ],
   "source": [
    "# as described before, explode() results in almost exact copies of some rows (except for tag name)\n",
    "# we only need the content once, to avoid duplicates utilizing drop_duplicates\n",
    "sustainable = df_sustainable.drop_duplicates(\"extracted_content\")[\"extracted_content\"].to_list()\n",
    "for post in sustainable[:10]:\n",
    "    print(post)\n",
    "    print(\"---------------------------------------------\")"
   ]
  },
  {
   "cell_type": "code",
   "execution_count": 103,
   "id": "803f657a-b996-4fac-bc57-cbd624ad2e5f",
   "metadata": {},
   "outputs": [
    {
     "data": {
      "text/plain": [
       "36"
      ]
     },
     "execution_count": 103,
     "metadata": {},
     "output_type": "execute_result"
    }
   ],
   "source": [
    "len(sustainable)"
   ]
  },
  {
   "cell_type": "code",
   "execution_count": null,
   "id": "556e91f2-7912-4d75-b947-c3d4a9156492",
   "metadata": {},
   "outputs": [],
   "source": []
  }
 ],
 "metadata": {
  "kernelspec": {
   "display_name": "Python 3 (ipykernel)",
   "language": "python",
   "name": "python3"
  },
  "language_info": {
   "codemirror_mode": {
    "name": "ipython",
    "version": 3
   },
   "file_extension": ".py",
   "mimetype": "text/x-python",
   "name": "python",
   "nbconvert_exporter": "python",
   "pygments_lexer": "ipython3",
   "version": "3.10.12"
  }
 },
 "nbformat": 4,
 "nbformat_minor": 5
}

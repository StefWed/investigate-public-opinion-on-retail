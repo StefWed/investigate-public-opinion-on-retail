{
 "cells": [
  {
   "cell_type": "markdown",
   "id": "d26516d7-6d92-470b-8800-934cef4d4f29",
   "metadata": {},
   "source": [
    "# Scraping Toots about IKEA from mastodon.world\n",
    "\n",
    "This notebook is a bit more advanced. It will only come with little explanations regarding the code. If you need more guidance, please refer to the notebook Mastodon_Migros_Prototype. Also, this notebook is a bit more interactive, using the input function by Python."
   ]
  },
  {
   "cell_type": "markdown",
   "id": "df7c8981-4fe4-44f1-a5ea-01747572b5f4",
   "metadata": {},
   "source": [
    "## Load libraries and modules"
   ]
  },
  {
   "cell_type": "code",
   "execution_count": 2,
   "id": "5668a5f8-60a7-49fa-a34b-866f8485fcac",
   "metadata": {},
   "outputs": [],
   "source": [
    "import json\n",
    "import requests\n",
    "import pandas as pd\n",
    "import re\n",
    "import nltk\n",
    "import itertools\n",
    "import collections\n",
    "import matplotlib.pyplot as plt"
   ]
  },
  {
   "cell_type": "code",
   "execution_count": 3,
   "id": "d2fce9be-0d6f-4ebe-8b65-d26ac0a5906c",
   "metadata": {},
   "outputs": [],
   "source": [
    "from bs4 import BeautifulSoup\n",
    "from nltk.corpus import stopwords"
   ]
  },
  {
   "cell_type": "code",
   "execution_count": 4,
   "id": "898e5f40-badb-4f86-a6d1-d7a2441c41bb",
   "metadata": {},
   "outputs": [],
   "source": [
    "from textblob import TextBlob"
   ]
  },
  {
   "cell_type": "markdown",
   "id": "5187d510-eb13-4e91-a92d-8abdcd3b1def",
   "metadata": {},
   "source": [
    "### To store the DataFrame in a separate folder (name it data), and to read it in when needed\n",
    "to avoid scraping over and over again after restart of Jupyter Notebook"
   ]
  },
  {
   "cell_type": "code",
   "execution_count": 5,
   "id": "4e69cf4b-34d2-4cef-af72-ec8829029a34",
   "metadata": {},
   "outputs": [],
   "source": [
    "from pathlib import Path"
   ]
  },
  {
   "cell_type": "code",
   "execution_count": 6,
   "id": "cc7eefef-8a80-4ed6-98a2-633e30a2bd53",
   "metadata": {},
   "outputs": [],
   "source": [
    "data_folder = Path(\"../data\")\n",
    "csv_path = data_folder / \"mastodon_ikea.csv\""
   ]
  },
  {
   "cell_type": "markdown",
   "id": "f4a62b36-1fba-469f-9d92-3c789260712c",
   "metadata": {},
   "source": [
    "## Preparation - Defining hashtag and URL for requests, set timeframe"
   ]
  },
  {
   "cell_type": "code",
   "execution_count": 5,
   "id": "cdaab0ff-dd36-42fc-a44b-a952dc06420a",
   "metadata": {},
   "outputs": [],
   "source": [
    "def ask_for_hashtag():\n",
    "\n",
    "    hashtag = input(\"Enter the hashtag which you would like to search: \")\n",
    "    return hashtag"
   ]
  },
  {
   "cell_type": "code",
   "execution_count": 6,
   "id": "06eaebf1-e4fe-4db6-814e-924bf7c5af51",
   "metadata": {},
   "outputs": [],
   "source": [
    "def build_url():\n",
    "\n",
    "    user_hashtag = ask_for_hashtag()\n",
    "    cleaned_hashtag = user_hashtag.lower()\n",
    "\n",
    "    url = f'https://mastodon.world/api/v1/timelines/tag/{cleaned_hashtag}'\n",
    "\n",
    "    return url"
   ]
  },
  {
   "cell_type": "code",
   "execution_count": 7,
   "id": "be9663c4-0e49-4f3a-9ff2-db7f13775601",
   "metadata": {},
   "outputs": [],
   "source": [
    "def ask_for_starting_date():\n",
    "\n",
    "    user_starting_date = input(\"Please enter the date you would like to start scraping. \"\n",
    "                          \"Tip: Depending on the hashtag, start with a short time period. \"\n",
    "                          \"Use the YYYY-MM-DD notation: \")\n",
    "\n",
    "    return user_starting_date"
   ]
  },
  {
   "cell_type": "markdown",
   "id": "99a10bad-4ad9-49b7-b568-3a238170831b",
   "metadata": {},
   "source": [
    "## Scraping the toots\n",
    "\n",
    "The following code now actually fetches recent posts with a specific hashtag from Mastodon and stores them in a Pandas DataFrame."
   ]
  },
  {
   "cell_type": "code",
   "execution_count": 8,
   "id": "d194dd01-a899-4df5-9cab-49f646485395",
   "metadata": {},
   "outputs": [],
   "source": [
    "def scraping_toots():\n",
    "    \n",
    "    params = {'limit': 40} #one can only fetch 40 posts at once\n",
    "    \n",
    "    URL = build_url()\n",
    "    print(URL)\n",
    "    \n",
    "    date = ask_for_starting_date()\n",
    "    since = pd.Timestamp(f'{date} 00:00:00', tz='UTC')\n",
    "    print(since)\n",
    "    \n",
    "    is_end = False\n",
    "    \n",
    "    \n",
    "    results = []\n",
    "    chunk_no = 1\n",
    "    \n",
    "    while True:\n",
    "    \n",
    "        try:\n",
    "            response = requests.get(URL, params=params)\n",
    "            print(\"STATUS OF YOUR SCRAPING: chunk number\", chunk_no)\n",
    "            chunk_no += 1\n",
    "            response.close()\n",
    "        except:\n",
    "            print(\"An error occured.\" \n",
    "                  \"The http status code is {}\".format(response.status_code))\n",
    "        \n",
    "        toots = json.loads(response.text)\n",
    "    \n",
    "        if len(toots) == 0:\n",
    "            print(\"There were no toots returned. \" \n",
    "                  \"Check for spelling or use another hashtag\")\n",
    "            break\n",
    "        \n",
    "        for toot in toots:\n",
    "            timestamp = pd.Timestamp(toot['created_at'], tz='utc')\n",
    "            if timestamp <= since:\n",
    "                is_end = True\n",
    "                break\n",
    "                \n",
    "            results.append(toot)\n",
    "        \n",
    "        if is_end:\n",
    "            break\n",
    "        \n",
    "        max_id = toots[-1]['id']\n",
    "        params['max_id'] = max_id\n",
    "    \n",
    "        \n",
    "    df_hashtag = pd.DataFrame(results)\n",
    "    \n",
    "    return df_hashtag"
   ]
  },
  {
   "cell_type": "code",
   "execution_count": 9,
   "id": "9b724d8e-108f-4276-8544-e8053e523ad3",
   "metadata": {},
   "outputs": [
    {
     "name": "stdin",
     "output_type": "stream",
     "text": [
      "Enter the hashtag which you would like to search:  Ikea\n"
     ]
    },
    {
     "name": "stdout",
     "output_type": "stream",
     "text": [
      "https://mastodon.world/api/v1/timelines/tag/ikea\n"
     ]
    },
    {
     "name": "stdin",
     "output_type": "stream",
     "text": [
      "Please enter the date you would like to start scraping. Tip: Depending on the hashtag, start with a short time period. Use the YYYY-MM-DD notation:  2024-01-01\n"
     ]
    },
    {
     "name": "stdout",
     "output_type": "stream",
     "text": [
      "2024-01-01 00:00:00+00:00\n",
      "STATUS OF YOUR SCRAPING: chunk number 1\n",
      "STATUS OF YOUR SCRAPING: chunk number 2\n",
      "STATUS OF YOUR SCRAPING: chunk number 3\n",
      "STATUS OF YOUR SCRAPING: chunk number 4\n",
      "STATUS OF YOUR SCRAPING: chunk number 5\n",
      "STATUS OF YOUR SCRAPING: chunk number 6\n",
      "STATUS OF YOUR SCRAPING: chunk number 7\n",
      "STATUS OF YOUR SCRAPING: chunk number 8\n",
      "STATUS OF YOUR SCRAPING: chunk number 9\n",
      "STATUS OF YOUR SCRAPING: chunk number 10\n",
      "STATUS OF YOUR SCRAPING: chunk number 11\n",
      "STATUS OF YOUR SCRAPING: chunk number 12\n",
      "STATUS OF YOUR SCRAPING: chunk number 13\n",
      "STATUS OF YOUR SCRAPING: chunk number 14\n",
      "STATUS OF YOUR SCRAPING: chunk number 15\n",
      "STATUS OF YOUR SCRAPING: chunk number 16\n",
      "STATUS OF YOUR SCRAPING: chunk number 17\n",
      "STATUS OF YOUR SCRAPING: chunk number 18\n",
      "STATUS OF YOUR SCRAPING: chunk number 19\n",
      "STATUS OF YOUR SCRAPING: chunk number 20\n",
      "STATUS OF YOUR SCRAPING: chunk number 21\n",
      "STATUS OF YOUR SCRAPING: chunk number 22\n"
     ]
    }
   ],
   "source": [
    "df = scraping_toots()"
   ]
  },
  {
   "cell_type": "markdown",
   "id": "fa37d571-5398-4692-84a2-0c78e8140e0e",
   "metadata": {},
   "source": [
    "## Results and DF"
   ]
  },
  {
   "cell_type": "code",
   "execution_count": 10,
   "id": "4fab5250-3725-4391-ab72-4369ff1c80fa",
   "metadata": {},
   "outputs": [
    {
     "data": {
      "text/plain": [
       "(851, 24)"
      ]
     },
     "execution_count": 10,
     "metadata": {},
     "output_type": "execute_result"
    }
   ],
   "source": [
    "df.shape"
   ]
  },
  {
   "cell_type": "code",
   "execution_count": 11,
   "id": "bd72c9bd-1b5b-4e15-8716-1ffecc27a123",
   "metadata": {},
   "outputs": [
    {
     "data": {
      "text/plain": [
       "Index(['id', 'created_at', 'in_reply_to_id', 'in_reply_to_account_id',\n",
       "       'sensitive', 'spoiler_text', 'visibility', 'language', 'uri', 'url',\n",
       "       'replies_count', 'reblogs_count', 'favourites_count', 'edited_at',\n",
       "       'content', 'reblog', 'account', 'media_attachments', 'mentions', 'tags',\n",
       "       'emojis', 'card', 'poll', 'application'],\n",
       "      dtype='object')"
      ]
     },
     "execution_count": 11,
     "metadata": {},
     "output_type": "execute_result"
    }
   ],
   "source": [
    "df.columns"
   ]
  },
  {
   "cell_type": "markdown",
   "id": "494469e1-4146-4443-90ef-a5b221735108",
   "metadata": {},
   "source": [
    "## Cleaning up the data"
   ]
  },
  {
   "cell_type": "code",
   "execution_count": 12,
   "id": "8ca16261-8d00-40fa-a632-1b4964ee7123",
   "metadata": {},
   "outputs": [],
   "source": [
    "def account_id_column(dataframe):\n",
    "    dataframe['account_id'] = dataframe['account'].apply(lambda x: x['id'])\n",
    "\n",
    "    return dataframe"
   ]
  },
  {
   "cell_type": "code",
   "execution_count": 13,
   "id": "81198287-e205-46f9-a919-bff52fa68458",
   "metadata": {},
   "outputs": [],
   "source": [
    "def tag_name_column(dataframe):\n",
    "\n",
    "    dataframe = dataframe.explode(\"tags\").reset_index()\n",
    "    dataframe[\"tag_name\"] = dataframe[\"tags\"].apply(lambda y: y['name'])\n",
    "\n",
    "    return dataframe"
   ]
  },
  {
   "cell_type": "code",
   "execution_count": 14,
   "id": "ef102a68-e5e2-4632-b6fd-b8ab79f11116",
   "metadata": {},
   "outputs": [],
   "source": [
    "def extract_text_from_html(html):\n",
    "\n",
    "    \"\"\"Parsing a string which is in html code to extract actual text.\n",
    "\n",
    "    Parameters\n",
    "    ----------\n",
    "    html : string\n",
    "        String that stores the content of the post (or any text) in html.\n",
    "\n",
    "    Returns\n",
    "    -------\n",
    "    soup.get_text() : string\n",
    "        A string with the actual text, without any html tags etc.\n",
    "    \"\"\"\n",
    "    \n",
    "    soup = BeautifulSoup(html, 'html.parser')\n",
    "    return soup.get_text()"
   ]
  },
  {
   "cell_type": "code",
   "execution_count": 15,
   "id": "19be707b-c409-4718-938a-eca98f8326ed",
   "metadata": {},
   "outputs": [],
   "source": [
    "def parsed_content_column(dataframe):\n",
    "\n",
    "    dataframe[\"extracted_content\"] = dataframe[\"content\"].apply(extract_text_from_html)\n",
    "\n",
    "    return dataframe"
   ]
  },
  {
   "cell_type": "code",
   "execution_count": 16,
   "id": "378142c3-fc71-441f-9b4c-f7c2f16fc16a",
   "metadata": {},
   "outputs": [],
   "source": [
    "def choose_languages():\n",
    "\n",
    "    defined_languages = False\n",
    "    \n",
    "    while True: \n",
    "        languages = input(\"Which languages should the posts have? \"\n",
    "                          \"Leave the field empty to use the default which is English. \"\n",
    "                          \"Otherwise refer to the List of ISO 639 language codes. \"\n",
    "                          \"Use the following way to write all of them down: en sv fr. \") or \"en\"\n",
    "        languages = languages.split(\" \")\n",
    "        print(\"Chosen languages: \", languages)\n",
    "        \n",
    "        answer = input(\"If these are the languages you want to use, type yes: \")\n",
    "        \n",
    "        if answer.lower() == \"yes\":\n",
    "            defined_languages = True\n",
    "            \n",
    "            print(\"Chosen languages are: \", languages)\n",
    "            break\n",
    "        \n",
    "    return languages"
   ]
  },
  {
   "cell_type": "code",
   "execution_count": 17,
   "id": "443a8191-a285-4b22-921a-723610d83e9d",
   "metadata": {},
   "outputs": [],
   "source": [
    "def cleaning_data(dataframe):\n",
    "\n",
    "    dataframe = account_id_column(dataframe)\n",
    "    dataframe = tag_name_column(dataframe)\n",
    "    dataframe = parsed_content_column(dataframe)\n",
    "\n",
    "    \n",
    "    language_competences = [\"en\", \"de\", \"fr\", \"sv\"]\n",
    "    print(\"The following languages are used: \", language_competences)\n",
    "    language_answer = input(\"If you want to use the same languages, type yes, else type no: \")\n",
    "    \n",
    "    if language_answer.lower() != \"yes\":\n",
    "        language_competences = choose_languages()\n",
    "    \n",
    "    new = dataframe[dataframe['language'].isin(language_competences)]\n",
    "\n",
    "    \n",
    "    df_small = new[[\n",
    "    \"index\", \n",
    "    \"id\", \n",
    "    \"created_at\", \n",
    "    \"language\", \n",
    "    \"account_id\", \n",
    "    \"extracted_content\", \n",
    "    \"tag_name\"]]\n",
    "\n",
    "    return df_small"
   ]
  },
  {
   "cell_type": "code",
   "execution_count": 18,
   "id": "46edc3e9-032e-4f7b-994b-d8a569ca0e69",
   "metadata": {},
   "outputs": [
    {
     "name": "stdout",
     "output_type": "stream",
     "text": [
      "The following languages are used:  ['en', 'de', 'fr', 'sv']\n"
     ]
    },
    {
     "name": "stdin",
     "output_type": "stream",
     "text": [
      "If you want to use the same languages, type yes, else type no:  yes\n"
     ]
    }
   ],
   "source": [
    "clean_df = cleaning_data(df)"
   ]
  },
  {
   "cell_type": "code",
   "execution_count": 19,
   "id": "1dd09155-3bc2-4d6b-829c-65e5b328ae19",
   "metadata": {},
   "outputs": [
    {
     "data": {
      "text/html": [
       "<div>\n",
       "<style scoped>\n",
       "    .dataframe tbody tr th:only-of-type {\n",
       "        vertical-align: middle;\n",
       "    }\n",
       "\n",
       "    .dataframe tbody tr th {\n",
       "        vertical-align: top;\n",
       "    }\n",
       "\n",
       "    .dataframe thead th {\n",
       "        text-align: right;\n",
       "    }\n",
       "</style>\n",
       "<table border=\"1\" class=\"dataframe\">\n",
       "  <thead>\n",
       "    <tr style=\"text-align: right;\">\n",
       "      <th></th>\n",
       "      <th>index</th>\n",
       "      <th>id</th>\n",
       "      <th>created_at</th>\n",
       "      <th>language</th>\n",
       "      <th>account_id</th>\n",
       "      <th>extracted_content</th>\n",
       "      <th>tag_name</th>\n",
       "    </tr>\n",
       "  </thead>\n",
       "  <tbody>\n",
       "    <tr>\n",
       "      <th>0</th>\n",
       "      <td>0</td>\n",
       "      <td>113477263268066882</td>\n",
       "      <td>2024-11-13T19:20:23.000Z</td>\n",
       "      <td>sv</td>\n",
       "      <td>110853048098304921</td>\n",
       "      <td>▸ Det svenska språket ska bantas ner på Ikea i...</td>\n",
       "      <td>sverige</td>\n",
       "    </tr>\n",
       "    <tr>\n",
       "      <th>1</th>\n",
       "      <td>0</td>\n",
       "      <td>113477263268066882</td>\n",
       "      <td>2024-11-13T19:20:23.000Z</td>\n",
       "      <td>sv</td>\n",
       "      <td>110853048098304921</td>\n",
       "      <td>▸ Det svenska språket ska bantas ner på Ikea i...</td>\n",
       "      <td>finland</td>\n",
       "    </tr>\n",
       "    <tr>\n",
       "      <th>2</th>\n",
       "      <td>0</td>\n",
       "      <td>113477263268066882</td>\n",
       "      <td>2024-11-13T19:20:23.000Z</td>\n",
       "      <td>sv</td>\n",
       "      <td>110853048098304921</td>\n",
       "      <td>▸ Det svenska språket ska bantas ner på Ikea i...</td>\n",
       "      <td>ikea</td>\n",
       "    </tr>\n",
       "    <tr>\n",
       "      <th>24</th>\n",
       "      <td>2</td>\n",
       "      <td>113474006887221276</td>\n",
       "      <td>2024-11-13T05:21:37.000Z</td>\n",
       "      <td>de</td>\n",
       "      <td>111204922380677786</td>\n",
       "      <td>Maßmöbel erfreuen sich zunehmender Beliebtheit...</td>\n",
       "      <td>ratgeber</td>\n",
       "    </tr>\n",
       "    <tr>\n",
       "      <th>25</th>\n",
       "      <td>2</td>\n",
       "      <td>113474006887221276</td>\n",
       "      <td>2024-11-13T05:21:37.000Z</td>\n",
       "      <td>de</td>\n",
       "      <td>111204922380677786</td>\n",
       "      <td>Maßmöbel erfreuen sich zunehmender Beliebtheit...</td>\n",
       "      <td>ikea</td>\n",
       "    </tr>\n",
       "    <tr>\n",
       "      <th>...</th>\n",
       "      <td>...</td>\n",
       "      <td>...</td>\n",
       "      <td>...</td>\n",
       "      <td>...</td>\n",
       "      <td>...</td>\n",
       "      <td>...</td>\n",
       "      <td>...</td>\n",
       "    </tr>\n",
       "    <tr>\n",
       "      <th>3294</th>\n",
       "      <td>848</td>\n",
       "      <td>111687735356166528</td>\n",
       "      <td>2024-01-02T18:19:50.000Z</td>\n",
       "      <td>en</td>\n",
       "      <td>110253184226848717</td>\n",
       "      <td>Man confesses to reading the instructions#IKEA...</td>\n",
       "      <td>lifestyle</td>\n",
       "    </tr>\n",
       "    <tr>\n",
       "      <th>3295</th>\n",
       "      <td>848</td>\n",
       "      <td>111687735356166528</td>\n",
       "      <td>2024-01-02T18:19:50.000Z</td>\n",
       "      <td>en</td>\n",
       "      <td>110253184226848717</td>\n",
       "      <td>Man confesses to reading the instructions#IKEA...</td>\n",
       "      <td>madeupnews</td>\n",
       "    </tr>\n",
       "    <tr>\n",
       "      <th>3296</th>\n",
       "      <td>848</td>\n",
       "      <td>111687735356166528</td>\n",
       "      <td>2024-01-02T18:19:50.000Z</td>\n",
       "      <td>en</td>\n",
       "      <td>110253184226848717</td>\n",
       "      <td>Man confesses to reading the instructions#IKEA...</td>\n",
       "      <td>satire</td>\n",
       "    </tr>\n",
       "    <tr>\n",
       "      <th>3299</th>\n",
       "      <td>850</td>\n",
       "      <td>111682466289088824</td>\n",
       "      <td>2024-01-01T19:59:52.000Z</td>\n",
       "      <td>en</td>\n",
       "      <td>109943094477399312</td>\n",
       "      <td>#IKEA ist doch nicht mehr ganz dicht?! Oh mome...</td>\n",
       "      <td>ikea</td>\n",
       "    </tr>\n",
       "    <tr>\n",
       "      <th>3300</th>\n",
       "      <td>850</td>\n",
       "      <td>111682466289088824</td>\n",
       "      <td>2024-01-01T19:59:52.000Z</td>\n",
       "      <td>en</td>\n",
       "      <td>109943094477399312</td>\n",
       "      <td>#IKEA ist doch nicht mehr ganz dicht?! Oh mome...</td>\n",
       "      <td>ice273leaks</td>\n",
       "    </tr>\n",
       "  </tbody>\n",
       "</table>\n",
       "<p>2755 rows × 7 columns</p>\n",
       "</div>"
      ],
      "text/plain": [
       "      index                  id                created_at language  \\\n",
       "0         0  113477263268066882  2024-11-13T19:20:23.000Z       sv   \n",
       "1         0  113477263268066882  2024-11-13T19:20:23.000Z       sv   \n",
       "2         0  113477263268066882  2024-11-13T19:20:23.000Z       sv   \n",
       "24        2  113474006887221276  2024-11-13T05:21:37.000Z       de   \n",
       "25        2  113474006887221276  2024-11-13T05:21:37.000Z       de   \n",
       "...     ...                 ...                       ...      ...   \n",
       "3294    848  111687735356166528  2024-01-02T18:19:50.000Z       en   \n",
       "3295    848  111687735356166528  2024-01-02T18:19:50.000Z       en   \n",
       "3296    848  111687735356166528  2024-01-02T18:19:50.000Z       en   \n",
       "3299    850  111682466289088824  2024-01-01T19:59:52.000Z       en   \n",
       "3300    850  111682466289088824  2024-01-01T19:59:52.000Z       en   \n",
       "\n",
       "              account_id                                  extracted_content  \\\n",
       "0     110853048098304921  ▸ Det svenska språket ska bantas ner på Ikea i...   \n",
       "1     110853048098304921  ▸ Det svenska språket ska bantas ner på Ikea i...   \n",
       "2     110853048098304921  ▸ Det svenska språket ska bantas ner på Ikea i...   \n",
       "24    111204922380677786  Maßmöbel erfreuen sich zunehmender Beliebtheit...   \n",
       "25    111204922380677786  Maßmöbel erfreuen sich zunehmender Beliebtheit...   \n",
       "...                  ...                                                ...   \n",
       "3294  110253184226848717  Man confesses to reading the instructions#IKEA...   \n",
       "3295  110253184226848717  Man confesses to reading the instructions#IKEA...   \n",
       "3296  110253184226848717  Man confesses to reading the instructions#IKEA...   \n",
       "3299  109943094477399312  #IKEA ist doch nicht mehr ganz dicht?! Oh mome...   \n",
       "3300  109943094477399312  #IKEA ist doch nicht mehr ganz dicht?! Oh mome...   \n",
       "\n",
       "         tag_name  \n",
       "0         sverige  \n",
       "1         finland  \n",
       "2            ikea  \n",
       "24       ratgeber  \n",
       "25           ikea  \n",
       "...           ...  \n",
       "3294    lifestyle  \n",
       "3295   madeupnews  \n",
       "3296       satire  \n",
       "3299         ikea  \n",
       "3300  ice273leaks  \n",
       "\n",
       "[2755 rows x 7 columns]"
      ]
     },
     "execution_count": 19,
     "metadata": {},
     "output_type": "execute_result"
    }
   ],
   "source": [
    "clean_df"
   ]
  },
  {
   "cell_type": "code",
   "execution_count": 21,
   "id": "526e7dc1-a5cf-4b9b-b30b-b00195a281aa",
   "metadata": {},
   "outputs": [],
   "source": [
    "clean_df.to_csv(csv_path)"
   ]
  },
  {
   "cell_type": "markdown",
   "id": "d9ee90dc-bda9-4713-8b11-680708bbe4e2",
   "metadata": {},
   "source": [
    "## Having a closer look at the hashtags"
   ]
  },
  {
   "cell_type": "code",
   "execution_count": 7,
   "id": "49b0fa8c-a49e-4e0f-a94f-0bf987dfce39",
   "metadata": {},
   "outputs": [],
   "source": [
    "#reading in the csv file, uncomment if not needed\n",
    "clean_df = pd.read_csv(csv_path)"
   ]
  },
  {
   "cell_type": "code",
   "execution_count": 8,
   "id": "917682e4-5b21-4e8f-9db2-c8e4366a4aa4",
   "metadata": {},
   "outputs": [
    {
     "data": {
      "text/html": [
       "<div>\n",
       "<style scoped>\n",
       "    .dataframe tbody tr th:only-of-type {\n",
       "        vertical-align: middle;\n",
       "    }\n",
       "\n",
       "    .dataframe tbody tr th {\n",
       "        vertical-align: top;\n",
       "    }\n",
       "\n",
       "    .dataframe thead th {\n",
       "        text-align: right;\n",
       "    }\n",
       "</style>\n",
       "<table border=\"1\" class=\"dataframe\">\n",
       "  <thead>\n",
       "    <tr style=\"text-align: right;\">\n",
       "      <th></th>\n",
       "      <th>tag_name</th>\n",
       "      <th>count</th>\n",
       "    </tr>\n",
       "  </thead>\n",
       "  <tbody>\n",
       "    <tr>\n",
       "      <th>0</th>\n",
       "      <td>ikea</td>\n",
       "      <td>724</td>\n",
       "    </tr>\n",
       "    <tr>\n",
       "      <th>1</th>\n",
       "      <td>blahaj</td>\n",
       "      <td>22</td>\n",
       "    </tr>\n",
       "    <tr>\n",
       "      <th>2</th>\n",
       "      <td>diy</td>\n",
       "      <td>17</td>\n",
       "    </tr>\n",
       "    <tr>\n",
       "      <th>3</th>\n",
       "      <td>furniture</td>\n",
       "      <td>16</td>\n",
       "    </tr>\n",
       "    <tr>\n",
       "      <th>4</th>\n",
       "      <td>tradfri</td>\n",
       "      <td>15</td>\n",
       "    </tr>\n",
       "    <tr>\n",
       "      <th>5</th>\n",
       "      <td>homeassistant</td>\n",
       "      <td>15</td>\n",
       "    </tr>\n",
       "    <tr>\n",
       "      <th>6</th>\n",
       "      <td>smarthome</td>\n",
       "      <td>14</td>\n",
       "    </tr>\n",
       "    <tr>\n",
       "      <th>7</th>\n",
       "      <td>arte</td>\n",
       "      <td>13</td>\n",
       "    </tr>\n",
       "    <tr>\n",
       "      <th>8</th>\n",
       "      <td>zigbee</td>\n",
       "      <td>11</td>\n",
       "    </tr>\n",
       "    <tr>\n",
       "      <th>9</th>\n",
       "      <td>nachhaltigkeit</td>\n",
       "      <td>11</td>\n",
       "    </tr>\n",
       "  </tbody>\n",
       "</table>\n",
       "</div>"
      ],
      "text/plain": [
       "         tag_name  count\n",
       "0            ikea    724\n",
       "1          blahaj     22\n",
       "2             diy     17\n",
       "3       furniture     16\n",
       "4         tradfri     15\n",
       "5   homeassistant     15\n",
       "6       smarthome     14\n",
       "7            arte     13\n",
       "8          zigbee     11\n",
       "9  nachhaltigkeit     11"
      ]
     },
     "execution_count": 8,
     "metadata": {},
     "output_type": "execute_result"
    }
   ],
   "source": [
    "tags_count = clean_df[\"tag_name\"].value_counts().reset_index()\n",
    "tags_count.head(10)"
   ]
  },
  {
   "cell_type": "markdown",
   "id": "3ed663d5-7be1-48fc-868b-fb7749c21b57",
   "metadata": {},
   "source": []
  },
  {
   "cell_type": "code",
   "execution_count": 8,
   "id": "26fbc82a-10d7-4b7b-9e69-9db53de9e96c",
   "metadata": {},
   "outputs": [],
   "source": [
    "sustainability = [\"greenwashing\", \"klimaschutz\", \"klima\", \"umwelt\", \n",
    "                  \"umweltschutz\", \"nachhaltig\", \"nachhaltigkeit\", \"tier\", \n",
    "                  \"tierschutz\", \"recycling\", \"vegan\", \"environmental\", \n",
    "                  \"greenpeace\", \"deforestation\", \"environment\",\n",
    "                 \"sustainability\", \"righttorepair\", \"arte\"]"
   ]
  },
  {
   "cell_type": "code",
   "execution_count": 9,
   "id": "34965a6c-ada1-44ab-9146-b7fee5561d69",
   "metadata": {},
   "outputs": [],
   "source": [
    "df_sustainable = clean_df[clean_df[\"tag_name\"].isin(sustainability)]"
   ]
  },
  {
   "cell_type": "code",
   "execution_count": 10,
   "id": "0e965d4f-1a90-47c8-b37c-625129791f2f",
   "metadata": {},
   "outputs": [
    {
     "name": "stdout",
     "output_type": "stream",
     "text": [
      "Ready for a joke that isn't one? No worries, #ikea got you covered.#sustainability #onlineshopping\n",
      "---------------------------------------------\n",
      "Doe mee aan de drukcampagne op Ikea, voor het stoppen met leer.We komen terug, met nog veel meer!Tot ze stoppen 🔥.Join the pressure campaign on Ikea, for quitting leather.We'll be back, with much more!Until they stop 🔥.https://groups.animalrebellion.nl/events/3e4730aa-09bd-498e-8a62-afbc1230a1e3#leer #leather #ikea #plantbased #sustainability\n",
      "---------------------------------------------\n",
      "@rootsandcalluses Irgendwie bin ich nicht überrascht. Gibt es bei #IKEA überhaupt wertige Produkte?Ich beispielsweise fahre mit gebrauchtem Ceracron, Friesland, Melitta, Rosenthal, Thomas z.B. bisher sehr gut. #Keramik #Nachhaltigkeit #Porzellan #Steingut\n",
      "---------------------------------------------\n",
      "Ikea mal nen Brief schicken und nett nachfragen ob sie bitte nicht Europas letzten Urwald fällen mögen...https://act.greenpeace.de/offenerbrief-ikea-g#greenpeace #savetheplanet #ikea #FuckElon #savethefuckingplanetbeforeitstoolate\n",
      "---------------------------------------------\n",
      "#DorotheaEpperl, #Greenpeace-Kolleg:innen aus #Rumänien und Vertreter:innen von #Ikea waren in den Wäldern der #Karpaten. Gemeinsam haben sie sich Gebiete angeguckt, wo das Leben noch summt und Tiere und Pflanzen im Gleichgewicht sind. Aber auch zerstörte Flächen, wo immer mehr #Bäume gefällt und #Lebensraum zerstört wird, haben wir uns angeschaut. Hat das Ausmaß der #Zerstörung Ikea wachgerüttelt ?Leider nein. Ikea beruft sich weiterhin darauf, dass ihre Fällungen nicht #illegal sind. Es gibt bisher kein Gesetz, das diese #Waldzerstörung verbietet. Jetzt #Protestmail schicken → https://act.greenpeace.de/protestmail-ikea\n",
      "---------------------------------------------\n",
      "send a mail to #ikea https://act.greenpeace.de/protestmail-ikea?_hsenc=p2ANqtz-8TmbwmcEWqbR2oerB6vaOF3KAv8xjXwB5VRCLSfBsh8uMcyxON-aa-MzZkCi8kSaCd6tiHPZpm1Ql5nlna17LgjfJzPzSUNfY-TS0UIzNuP_F3Q5k&_hsmi=96587757#greenpeace\n",
      "---------------------------------------------\n",
      "🙅 Refusons la #surconsommation et #greenwashing associé que nous vendent les multinationales comme #ikea 🌲🌳🪓@XR_Bordeaux propose une petite vidéo de sensibilisation sur le sujet 😉#StopDeforestation\n",
      "---------------------------------------------\n",
      "Hat IKEA das Plant Schnitzel eigentlich aus dem Sortiment genommen? Viel Veganes bleibt da nicht übrig... :(#Ikea #vegan\n",
      "---------------------------------------------\n",
      "@erin @johnefrancis The program is great for the #environment, wish more of the huge #corporations would do this! Seen so much perfectly fine #Ikea furniture dumped next to roads and inside forests 🌳 #reuse\n",
      "---------------------------------------------\n",
      "Mes trouvailles « vegan food » chez IKEAhttps://www.youtube.com/watch?v=qRswzG39wvEJ'aime pas ikea, mais alors pas du tout. Mais j'aime bien la chaîne du monsieur.#Vegan #ikea\n",
      "---------------------------------------------\n"
     ]
    }
   ],
   "source": [
    "# explode() results in almost exact copies of some rows (except for the tag name)\n",
    "# we only need the content once, to avoid duplicates utilizing drop_duplicates\n",
    "sustainable = df_sustainable.drop_duplicates(\"extracted_content\")[\"extracted_content\"].to_list()\n",
    "for post in sustainable[:10]:\n",
    "    print(post)\n",
    "    print(\"---------------------------------------------\")"
   ]
  },
  {
   "cell_type": "code",
   "execution_count": 11,
   "id": "19a32ab9-7904-4c84-acc6-ed621d77d6cb",
   "metadata": {},
   "outputs": [
    {
     "data": {
      "text/plain": [
       "46"
      ]
     },
     "execution_count": 11,
     "metadata": {},
     "output_type": "execute_result"
    }
   ],
   "source": [
    "len(sustainable)"
   ]
  },
  {
   "cell_type": "markdown",
   "id": "a628880f-c1ee-4c0d-a766-7056af577066",
   "metadata": {},
   "source": [
    "## Sentiment analysis of toots\n",
    "\n",
    "Sentiment analysis helps determine attitudes within text data about a particular subject by assigning polarity scores that range from -1 to 1. Scores closer to 1 indicate positive sentiment, while those near -1 indicate negative sentiment.\n",
    "\n",
    "The following uses TextBlob to perform sentiment analysis on Mastodon toots. "
   ]
  },
  {
   "cell_type": "code",
   "execution_count": 12,
   "id": "c7ec66a3-2da0-4f41-8e84-ab356ab49e66",
   "metadata": {},
   "outputs": [],
   "source": [
    "#helper function to remove urls from toots\n",
    "def remove_url(txt):\n",
    "    \"\"\"Replace URLs found in a text string with nothing.\n",
    "    It will remove the URL from the string.\n",
    "\n",
    "    Parameters\n",
    "    ----------\n",
    "    txt : string\n",
    "        A text string that you want to parse and remove urls.\n",
    "\n",
    "    Returns\n",
    "    -------\n",
    "    The same txt string with url's removed.\n",
    "    \"\"\"\n",
    "    \n",
    "    url_pattern = re.compile(r'https?://\\S+|www\\.\\S+')\n",
    "    no_url = url_pattern.sub(r'', txt)\n",
    "\n",
    "    return no_url"
   ]
  },
  {
   "cell_type": "code",
   "execution_count": 37,
   "id": "bb18a71e-6d2c-41ee-abc9-dc6fe00ee979",
   "metadata": {},
   "outputs": [],
   "source": [
    "def plot_polarity_scores(polarity_dataframe):\n",
    "    plt.figure(figsize=(10, 6))\n",
    "    plt.hist(polarity_dataframe[\"polarity\"], bins=100, color='blue', edgecolor='black', alpha=0.7)\n",
    "    \n",
    "    plt.title(\"Distribution of Polarity Scores\")\n",
    "    plt.xlabel(\"Polarity Score\")\n",
    "    plt.ylabel(\"Frequency\")\n",
    "    plt.axvline(0, color='red', linestyle='dashed', linewidth=1, label='Neutral Score')\n",
    "    \n",
    "    plt.legend()\n",
    "    plt.show()"
   ]
  },
  {
   "cell_type": "code",
   "execution_count": 28,
   "id": "9cbe3028-8282-4502-b457-ab97870574f6",
   "metadata": {},
   "outputs": [],
   "source": [
    "def sentiment_with_textblob(dataframe):\n",
    "\n",
    "    # prepare with: store toots in list, drop duplicates\n",
    "    list_toots = dataframe.drop_duplicates(\"extracted_content\")[\"extracted_content\"].to_list()\n",
    "    print(\"The list contains {} toots\".format(len(list_toots)))\n",
    "    \n",
    "    # dropping urls\n",
    "    toots_no_urls = [remove_url(toot) for toot in list_toots]\n",
    "\n",
    "    # start sentiment analysis, output: TextBlob object\n",
    "    sentiment_toots = [TextBlob(toot) for toot in toots_no_urls]\n",
    "\n",
    "    # accessing polarity/ subjectivity scores directly, storing together with the toot\n",
    "    sentiment_values = [[toot.sentiment.polarity, \n",
    "                         toot.sentiment.subjectivity, \n",
    "                         str(toot)] for toot in sentiment_toots]\n",
    "    \n",
    "    # for better processing store result in DF\n",
    "    sentiment_df = pd.DataFrame(sentiment_values, \n",
    "                                columns=[\"polarity\", \"subjectivity\", \"toot\"])\n",
    "\n",
    "    return sentiment_toots, sentiment_df"
   ]
  },
  {
   "cell_type": "markdown",
   "id": "1557e735-a778-4dcf-8325-06978e373b37",
   "metadata": {},
   "source": [
    "### Sustainability Toots Written in English"
   ]
  },
  {
   "cell_type": "code",
   "execution_count": 29,
   "id": "f5349611-7880-4ebd-86ea-5f3fb048d2ee",
   "metadata": {},
   "outputs": [],
   "source": [
    "df_sustainable_en = df_sustainable[df_sustainable[\"language\"] == \"en\"]"
   ]
  },
  {
   "cell_type": "code",
   "execution_count": 30,
   "id": "cb5d058c-c373-432d-9067-85ee8d57ae11",
   "metadata": {},
   "outputs": [
    {
     "name": "stdout",
     "output_type": "stream",
     "text": [
      "The list contains 16 toots\n"
     ]
    }
   ],
   "source": [
    "sentiment_toots_sustainability, sentiment_df_sustainability = sentiment_with_textblob(df_sustainable_en)"
   ]
  },
  {
   "cell_type": "code",
   "execution_count": 31,
   "id": "945fd60c-8f14-45af-ab49-4bc273ded010",
   "metadata": {},
   "outputs": [
    {
     "data": {
      "image/png": "[encoded data removed]",
      "text/plain": [
       "<Figure size 1000x600 with 1 Axes>"
      ]
     },
     "metadata": {},
     "output_type": "display_data"
    }
   ],
   "source": [
    "plot_polarity_scores(sentiment_df_sustainability)"
   ]
  },
  {
   "cell_type": "markdown",
   "id": "4143735a-cf1b-4cc9-9dfd-f25c8855389e",
   "metadata": {},
   "source": [
    "There were 16 toots written in English around the topic of sustainability, utilizing the given list of sustainability terms. Most of them are rather critical and one might have expected rather negative polarity values. But that is not what we observe.\n",
    "\n",
    "Let's learn a bit more about TextBlob:\n",
    "\n",
    "TextBlob’s sentiment analysis relies on a lexicon-based approach, meaning it uses a pre-built dictionary of words associated with predefined polarity (positivity or negativity) and subjectivity scores. Here’s how it works and when the polarity score might lean toward -1 (indicating negativity):\n",
    "\n",
    "    Polarity Scoring:\n",
    "        TextBlob examines each word in the text and matches it to a lexicon of words where each has a polarity score between -1 (negative) and 1 (positive).\n",
    "        For example, words like \"excellent\" or \"love\" have positive scores, while words like \"terrible\" or \"hate\" have negative scores.\n",
    "        TextBlob calculates an overall score by summing the individual polarity scores of each word and then averaging it over the length of the text.\n",
    "\n",
    "    Modifiers and Negation:\n",
    "        TextBlob can adjust scores based on modifiers (e.g., \"very good\" has a stronger positive score than just \"good\").\n",
    "        Negations like \"not\" can reverse or soften polarity (e.g., \"not bad\" becomes a weakly positive score instead of negative).\n",
    "\n",
    "    When Polarity Goes Toward -1:\n",
    "        A polarity score will lean toward -1 if the text contains predominantly negative words and phrases (e.g., \"terrible experience,\" \"hate this,\" \"awful service\").\n",
    "        Strong negative words, repeated negative expressions, or even a few highly negative terms can push the score further negative.\n",
    "\n",
    "    Limitations:\n",
    "        Since TextBlob’s analysis is lexicon-based, it might struggle with sarcasm, idioms, or context-specific meanings where words deviate from standard sentiment (e.g., \"sick\" as slang for something positive).\n",
    "\n",
    "**Some Observation**\n",
    "\n",
    "Let's pick a rather obvious toot, which is currently on position 5 in our result:\n",
    "\n",
    "\"Buying #IKEA means supporting rampant #deforestation enforced by #mafia leaving a trail of murdered environmental activists. #boycottIKEA Wer IKEA kauft, unterstützt die zügellose Abholzung, die von der Mafia durchgesetzt wird und eine Spur von ermordeten Umweltaktivisten hinterlässt. \"\n",
    "\n",
    "It has a polarity score of 0.25 which seems too high, given the critical text.\n",
    "\n",
    "**Possible Fix**\n",
    "\n",
    "Something, one could try is to seperate the English from the German part, maybe the model gets cunfused by it. First, the result from above. Second the result with just the English snippet."
   ]
  },
  {
   "cell_type": "code",
   "execution_count": 33,
   "id": "bdef7386-cc96-43fc-9d59-c7852fab6bc2",
   "metadata": {},
   "outputs": [
    {
     "data": {
      "text/plain": [
       "(0.25,\n",
       " TextBlob(\"Buying #IKEA means supporting rampant #deforestation enforced by #mafia leaving a trail of murdered environmental activists. #boycottIKEA Wer IKEA kauft, unterstützt die zügellose Abholzung, die von der Mafia durchgesetzt wird und eine Spur von ermordeten Umweltaktivisten hinterlässt. \"))"
      ]
     },
     "execution_count": 33,
     "metadata": {},
     "output_type": "execute_result"
    }
   ],
   "source": [
    "sentiment_toots_sustainability[4].polarity, sentiment_toots_sustainability[4]"
   ]
  },
  {
   "cell_type": "code",
   "execution_count": 31,
   "id": "0bcf0795-6449-486c-942a-94db37252e65",
   "metadata": {},
   "outputs": [
    {
     "data": {
      "text/plain": [
       "0.25"
      ]
     },
     "execution_count": 31,
     "metadata": {},
     "output_type": "execute_result"
    }
   ],
   "source": [
    "TextBlob(\"Buying #IKEA means supporting rampant #deforestation enforced by #mafia leaving a trail of murdered environmental activists.\").sentiment.polarity"
   ]
  },
  {
   "cell_type": "markdown",
   "id": "2040123e-1958-4974-b840-ada9ba5af1ef",
   "metadata": {},
   "source": [
    "**Result**\n",
    "\n",
    "It's the same result. Probably because words like buying, means, leaving, trail etc are rather neutral. Words like supporting and environmental, and maybe activists as well might be rather positive connotated. So in the end and overall, the polarity score ends up where it is now: 0.25\n",
    "\n",
    "Solution: try alternative libraries.\n",
    "\n",
    "### All Toots Written in English\n",
    "\n",
    "One thing which might still be interesting, is the overall sentiment of all English posts. Let's have a look."
   ]
  },
  {
   "cell_type": "code",
   "execution_count": 34,
   "id": "73f6bc36-c92d-4c86-ac7c-4cb95bc0a32d",
   "metadata": {},
   "outputs": [],
   "source": [
    "df_en = clean_df[clean_df[\"language\"] == \"en\"]"
   ]
  },
  {
   "cell_type": "code",
   "execution_count": 35,
   "id": "6b80977e-a3d3-4292-a02b-4e5ca9b62e02",
   "metadata": {},
   "outputs": [
    {
     "name": "stdout",
     "output_type": "stream",
     "text": [
      "The list contains 430 toots\n"
     ]
    }
   ],
   "source": [
    "sentiment_toots_en, sentiment_df_en = sentiment_with_textblob(df_en)"
   ]
  },
  {
   "cell_type": "code",
   "execution_count": 38,
   "id": "c8eaf58b-734e-4c89-a5e2-b91ebc1d1adf",
   "metadata": {},
   "outputs": [
    {
     "data": {
      "image/png": "[encoded data removed]",
      "text/plain": [
       "<Figure size 1000x600 with 1 Axes>"
      ]
     },
     "metadata": {},
     "output_type": "display_data"
    }
   ],
   "source": [
    "plot_polarity_scores(sentiment_df_en)"
   ]
  },
  {
   "cell_type": "markdown",
   "id": "4feb43b3-ff98-4137-addd-cd838219416e",
   "metadata": {},
   "source": [
    "**Let's have a look at the ten toots with most negative polarity scores**"
   ]
  },
  {
   "cell_type": "code",
   "execution_count": 39,
   "id": "22ba9074-0cc8-40be-bac6-9e5f044fd07d",
   "metadata": {},
   "outputs": [],
   "source": [
    "sorted_polarity = sentiment_df_en.sort_values(\"polarity\")"
   ]
  },
  {
   "cell_type": "code",
   "execution_count": 40,
   "id": "84612813-ba91-4fca-9a47-b09b980dbaf5",
   "metadata": {},
   "outputs": [
    {
     "data": {
      "text/html": [
       "<div>\n",
       "<style scoped>\n",
       "    .dataframe tbody tr th:only-of-type {\n",
       "        vertical-align: middle;\n",
       "    }\n",
       "\n",
       "    .dataframe tbody tr th {\n",
       "        vertical-align: top;\n",
       "    }\n",
       "\n",
       "    .dataframe thead th {\n",
       "        text-align: right;\n",
       "    }\n",
       "</style>\n",
       "<table border=\"1\" class=\"dataframe\">\n",
       "  <thead>\n",
       "    <tr style=\"text-align: right;\">\n",
       "      <th></th>\n",
       "      <th>polarity</th>\n",
       "      <th>subjectivity</th>\n",
       "      <th>toot</th>\n",
       "    </tr>\n",
       "  </thead>\n",
       "  <tbody>\n",
       "    <tr>\n",
       "      <th>293</th>\n",
       "      <td>-1.000000</td>\n",
       "      <td>1.000000</td>\n",
       "      <td>Do people go to IKEA just to browse? I wanna g...</td>\n",
       "    </tr>\n",
       "    <tr>\n",
       "      <th>424</th>\n",
       "      <td>-0.750000</td>\n",
       "      <td>1.000000</td>\n",
       "      <td>4h après : c’est terminé 🤯 #ikea #ikeahemnes</td>\n",
       "    </tr>\n",
       "    <tr>\n",
       "      <th>275</th>\n",
       "      <td>-0.666667</td>\n",
       "      <td>1.000000</td>\n",
       "      <td>Achievement of the day. Yes, I cheated with th...</td>\n",
       "    </tr>\n",
       "    <tr>\n",
       "      <th>279</th>\n",
       "      <td>-0.600000</td>\n",
       "      <td>0.800000</td>\n",
       "      <td>@WilliamKretschmer Fucking #Ikea, it was suppo...</td>\n",
       "    </tr>\n",
       "    <tr>\n",
       "      <th>37</th>\n",
       "      <td>-0.500000</td>\n",
       "      <td>0.400000</td>\n",
       "      <td>#IKEA #Fail I understand the need for random a...</td>\n",
       "    </tr>\n",
       "    <tr>\n",
       "      <th>18</th>\n",
       "      <td>-0.500000</td>\n",
       "      <td>1.000000</td>\n",
       "      <td>Went to #IKEA today and boy are they killing i...</td>\n",
       "    </tr>\n",
       "    <tr>\n",
       "      <th>107</th>\n",
       "      <td>-0.500000</td>\n",
       "      <td>1.000000</td>\n",
       "      <td>#weird #IKEA #jdvance</td>\n",
       "    </tr>\n",
       "    <tr>\n",
       "      <th>210</th>\n",
       "      <td>-0.500000</td>\n",
       "      <td>1.000000</td>\n",
       "      <td>@andrewbrent There's always #IKEA.  Have I jus...</td>\n",
       "    </tr>\n",
       "    <tr>\n",
       "      <th>375</th>\n",
       "      <td>-0.433333</td>\n",
       "      <td>0.600000</td>\n",
       "      <td>Dramatic shark child #IKEA #Shark #Plushie</td>\n",
       "    </tr>\n",
       "    <tr>\n",
       "      <th>187</th>\n",
       "      <td>-0.416667</td>\n",
       "      <td>0.666667</td>\n",
       "      <td>#Pathetic #bigots are #crying over #IKEA’s #ra...</td>\n",
       "    </tr>\n",
       "  </tbody>\n",
       "</table>\n",
       "</div>"
      ],
      "text/plain": [
       "     polarity  subjectivity                                               toot\n",
       "293 -1.000000      1.000000  Do people go to IKEA just to browse? I wanna g...\n",
       "424 -0.750000      1.000000       4h après : c’est terminé 🤯 #ikea #ikeahemnes\n",
       "275 -0.666667      1.000000  Achievement of the day. Yes, I cheated with th...\n",
       "279 -0.600000      0.800000  @WilliamKretschmer Fucking #Ikea, it was suppo...\n",
       "37  -0.500000      0.400000  #IKEA #Fail I understand the need for random a...\n",
       "18  -0.500000      1.000000  Went to #IKEA today and boy are they killing i...\n",
       "107 -0.500000      1.000000                              #weird #IKEA #jdvance\n",
       "210 -0.500000      1.000000  @andrewbrent There's always #IKEA.  Have I jus...\n",
       "375 -0.433333      0.600000         Dramatic shark child #IKEA #Shark #Plushie\n",
       "187 -0.416667      0.666667  #Pathetic #bigots are #crying over #IKEA’s #ra..."
      ]
     },
     "execution_count": 40,
     "metadata": {},
     "output_type": "execute_result"
    }
   ],
   "source": [
    "negative = sorted_polarity.iloc[:10]\n",
    "negative"
   ]
  },
  {
   "cell_type": "code",
   "execution_count": 41,
   "id": "7837a8eb-b31b-43de-8db0-29e29ad506ba",
   "metadata": {},
   "outputs": [
    {
     "name": "stdout",
     "output_type": "stream",
     "text": [
      "Do people go to IKEA just to browse? I wanna get stuff from IKEA but I don’t have a car, so I kinda wanna take a train to IKEA and then order what I want online. Is that a thing?(I’m referring to IKEA in the US. Yes, I can take a train to IKEA where I am in the US. Shocking ik)#ikea #transit #publicTransit\n",
      "----------------------------------------\n",
      "4h après : c’est terminé 🤯 #ikea #ikeahemnes\n",
      "----------------------------------------\n",
      "Achievement of the day. Yes, I cheated with the handles cuz the screws were impossible to screw in. #ikea\n",
      "----------------------------------------\n",
      "@WilliamKretschmer Fucking #Ikea, it was supposed to be a bookshelf\n",
      "----------------------------------------\n",
      "#IKEA #Fail I understand the need for random audit in self serving payment, but claiming that someone is coming to help is a bit tongue in cheek. I don't need help for a problem you've just caused your customer, Ikea, you should apologize and beg for the customer's comprehension.\n",
      "----------------------------------------\n",
      "Went to #IKEA today and boy are they killing it for #Halloween. All kinds of creepy #candy decorations, we got some #FreeCandy and even saw some haunted hotdog buns.\n",
      "----------------------------------------\n",
      "#weird #IKEA #jdvance\n",
      "----------------------------------------\n",
      "@andrewbrent There's always #IKEA.  Have I just complicated the decision for you, though?  (-:\n",
      "----------------------------------------\n",
      "Dramatic shark child #IKEA #Shark #Plushie\n",
      "----------------------------------------\n",
      "#Pathetic #bigots are #crying over #IKEA’s #rainbow #Pride #charity #cake. IKEA has long #supported #LGBTQ+ folks. #Women #Transgender #LGBTQ #LGBTQIA #Allies #Pride #PrideMonth #Representation #Culture \n",
      "----------------------------------------\n"
     ]
    }
   ],
   "source": [
    "negative_toots = negative[\"toot\"].to_list()\n",
    "for toot in negative_toots:\n",
    "    print(toot)\n",
    "    print(\"----------------------------------------\")"
   ]
  },
  {
   "cell_type": "markdown",
   "id": "c7d40377-3215-4f62-aa68-49096df6d37d",
   "metadata": {},
   "source": [
    "**Result**\n",
    " \n",
    "These toots, which have the most negative polarity score - which means that they indicate a negative sentiment - are in fact not that negative (7/10). Some are critical, but some are totally okay or address when someone has finished building a IKEA furniture. And the one post that even has -1 is just about if there are people going to IKEA to browse. Some use a strong language, but are not negatively connoted (\"Went to #IKEA today and boy are they killing it for #Halloween. All kinds of creepy #candy decorations, we got some #FreeCandy and even saw some haunted hotdog buns.\", \"#Pathetic #bigots are #crying over #IKEA’s #rainbow #Pride #charity #cake. IKEA has long #supported #LGBTQ+ folks. #Women #Transgender #LGBTQ #LGBTQIA #Allies #Pride #PrideMonth #Representation #Culture \").\n",
    "\n",
    "So, in the end be careful with the result. Maybe a different library will achieve better results, which would be a future step. Another step is to find out, where TextBlob is working well - maybe it is just the way posts are written in, so due to the special format/ style etc..\n"
   ]
  },
  {
   "cell_type": "code",
   "execution_count": null,
   "id": "fae07e7b-edc0-4e2d-92c2-4f57f47c344b",
   "metadata": {},
   "outputs": [],
   "source": []
  }
 ],
 "metadata": {
  "kernelspec": {
   "display_name": "Python 3 (ipykernel)",
   "language": "python",
   "name": "python3"
  },
  "language_info": {
   "codemirror_mode": {
    "name": "ipython",
    "version": 3
   },
   "file_extension": ".py",
   "mimetype": "text/x-python",
   "name": "python",
   "nbconvert_exporter": "python",
   "pygments_lexer": "ipython3",
   "version": "3.10.12"
  }
 },
 "nbformat": 4,
 "nbformat_minor": 5
}
